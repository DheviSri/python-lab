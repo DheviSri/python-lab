{
  "nbformat": 4,
  "nbformat_minor": 0,
  "metadata": {
    "colab": {
      "provenance": [],
      "mount_file_id": "11Ovgb4rYgI8jnXmPwfbcOM139vMk0Coe",
      "authorship_tag": "ABX9TyOKd7QbE0PVN+BKbYAPRZfM",
      "include_colab_link": true
    },
    "kernelspec": {
      "name": "python3",
      "display_name": "Python 3"
    },
    "language_info": {
      "name": "python"
    }
  },
  "cells": [
    {
      "cell_type": "markdown",
      "metadata": {
        "id": "view-in-github",
        "colab_type": "text"
      },
      "source": [
        "<a href=\"https://colab.research.google.com/github/DheviSri/python-lab/blob/main/lab7_activity.ipynb\" target=\"_parent\"><img src=\"https://colab.research.google.com/assets/colab-badge.svg\" alt=\"Open In Colab\"/></a>"
      ]
    },
    {
      "cell_type": "code",
      "execution_count": 1,
      "metadata": {
        "colab": {
          "base_uri": "https://localhost:8080/"
        },
        "id": "6uSGvCAtGJhc",
        "outputId": "4da8aa4b-c35c-4ff9-b62a-4f63b8faec95"
      },
      "outputs": [
        {
          "output_type": "stream",
          "name": "stdout",
          "text": [
            "\n",
            " I have a pet Hamster.\n",
            "My Hamster's name is Harry.\n"
          ]
        }
      ],
      "source": [
        "#Functions\n",
        "#1. Passing Arguments - Positonal Arguments and keyword Arguments\n",
        "def describe_pet(animal_type, pet_name):\n",
        "    \"\"\"Display information about a pet\"\"\"\n",
        "    print(f\"\\n I have a pet {animal_type}.\")\n",
        "    print(f\"My {animal_type}'s name is {pet_name.title()}.\")\n",
        "\n",
        "describe_pet(\"Hamster\",\"Harry\")  # function call"
      ]
    },
    {
      "cell_type": "code",
      "source": [
        "#2.Multiple Function Call\n",
        "def describe_pet(animal_type, pet_name):\n",
        "    \"\"\"Display information about a pet\"\"\"\n",
        "    print(f\"\\n I have a pet {animal_type}.\")\n",
        "    print(f\"My {animal_type}'s name is {pet_name.title()}.\")\n",
        "\n",
        "describe_pet(\"Hamster\",\"Harry\")  # function call\n",
        "describe_pet(\"Dog\",\"Bruno\")      # Another function call"
      ],
      "metadata": {
        "colab": {
          "base_uri": "https://localhost:8080/"
        },
        "id": "B9oNmzjvGg8j",
        "outputId": "5ab0c122-f1e8-47da-bf2f-70f272a743be"
      },
      "execution_count": 2,
      "outputs": [
        {
          "output_type": "stream",
          "name": "stdout",
          "text": [
            "\n",
            " I have a pet Hamster.\n",
            "My Hamster's name is Harry.\n",
            "\n",
            " I have a pet Dog.\n",
            "My Dog's name is Bruno.\n"
          ]
        }
      ]
    },
    {
      "cell_type": "code",
      "source": [
        "#3. Order matters in positional Arguments\n",
        "def describe_pet(animal_type, pet_name):\n",
        "    \"\"\"Display information about a pet\"\"\"\n",
        "    print(f\"\\n I have a pet {animal_type}.\")\n",
        "    print(f\"My {animal_type}'s name is {pet_name.title()}.\")\n",
        "\n",
        "describe_pet(\"Harry\",\"Hamster\")  # function call"
      ],
      "metadata": {
        "colab": {
          "base_uri": "https://localhost:8080/"
        },
        "id": "AAIL1mhjGsFy",
        "outputId": "70a904d6-4798-445e-dcc3-071d46eed15d"
      },
      "execution_count": 3,
      "outputs": [
        {
          "output_type": "stream",
          "name": "stdout",
          "text": [
            "\n",
            " I have a pet Harry.\n",
            "My Harry's name is Hamster.\n"
          ]
        }
      ]
    },
    {
      "cell_type": "code",
      "source": [
        "#4. Keyword Arguments\n",
        "def describe_pet(animal_type, pet_name):\n",
        "    \"\"\"Display information about a pet\"\"\"\n",
        "    print(f\"\\n I have a pet {animal_type}.\")\n",
        "    print(f\"My {animal_type}'s name is {pet_name.title()}.\")\n",
        "\n",
        "describe_pet(animal_type = \"Hamster\",pet_name = \"Harry\") # function call"
      ],
      "metadata": {
        "colab": {
          "base_uri": "https://localhost:8080/"
        },
        "id": "w5zDoZuZGw4m",
        "outputId": "2f813e90-4603-41f0-da90-24901f92db76"
      },
      "execution_count": 4,
      "outputs": [
        {
          "output_type": "stream",
          "name": "stdout",
          "text": [
            "\n",
            " I have a pet Hamster.\n",
            "My Hamster's name is Harry.\n"
          ]
        }
      ]
    },
    {
      "cell_type": "code",
      "source": [
        "#5. Default Values\n",
        "def describe_pet(pet_name, animal_type = \"dog\"):\n",
        "    \"\"\"Display information about a pet\"\"\"\n",
        "    print(f\"\\n I have a pet {animal_type}.\")\n",
        "    print(f\"My {animal_type}'s name is {pet_name.title()}.\")\n",
        "\n",
        "describe_pet(pet_name = \"Bruno\") # function call"
      ],
      "metadata": {
        "colab": {
          "base_uri": "https://localhost:8080/"
        },
        "id": "DDQ4l1YiG2ov",
        "outputId": "45d975c5-bdac-4e9e-c25d-58d3cec47695"
      },
      "execution_count": 5,
      "outputs": [
        {
          "output_type": "stream",
          "name": "stdout",
          "text": [
            "\n",
            " I have a pet dog.\n",
            "My dog's name is Bruno.\n"
          ]
        }
      ]
    },
    {
      "cell_type": "code",
      "source": [
        "#6. Hence many ways to call a function\n",
        "describe_pet(\"Bruno\") # Positional argument and default values\n",
        "describe_pet(pet_name = \"Bruno\") # Keyword argument and default values\n",
        "describe_pet(animal_type = \"Hamster\",pet_name = \"Harry\") # Keyword argument (doesn't matter on order)\n",
        "describe_pet(\"Harry\",\"Hamster\") # Positional Argument\n",
        "describe_pet(\"Hamster\",animal_type=\"Harry\") # Positional argument and Keyword argument\n",
        "describe_pet(pet_name = \"Harry\",animal_type = \"Hamster\") # Keyword argument"
      ],
      "metadata": {
        "colab": {
          "base_uri": "https://localhost:8080/"
        },
        "id": "y0ooL6hvG7xd",
        "outputId": "a6a0a4b6-908c-41b5-c3fe-b6ba3bf8833a"
      },
      "execution_count": 6,
      "outputs": [
        {
          "output_type": "stream",
          "name": "stdout",
          "text": [
            "\n",
            " I have a pet dog.\n",
            "My dog's name is Bruno.\n",
            "\n",
            " I have a pet dog.\n",
            "My dog's name is Bruno.\n",
            "\n",
            " I have a pet Hamster.\n",
            "My Hamster's name is Harry.\n",
            "\n",
            " I have a pet Hamster.\n",
            "My Hamster's name is Harry.\n",
            "\n",
            " I have a pet Harry.\n",
            "My Harry's name is Hamster.\n",
            "\n",
            " I have a pet Hamster.\n",
            "My Hamster's name is Harry.\n"
          ]
        }
      ]
    },
    {
      "cell_type": "code",
      "source": [
        "#7. Returning a simple value\n",
        "def get_formatted_name(first_name, last_name):\n",
        "    \"\"\"\"Return a full name, neatly formatted\"\"\"\n",
        "    full_name = f\"{first_name} {last_name}\"\n",
        "    return full_name.title()\n",
        "\n",
        "musician = get_formatted_name('jimi','hendrix')\n",
        "print(musician)"
      ],
      "metadata": {
        "colab": {
          "base_uri": "https://localhost:8080/"
        },
        "id": "RKj1PF5RG-YL",
        "outputId": "288eff27-bfd3-4c65-9c03-8ad64db0a51e"
      },
      "execution_count": 7,
      "outputs": [
        {
          "output_type": "stream",
          "name": "stdout",
          "text": [
            "Jimi Hendrix\n"
          ]
        }
      ]
    },
    {
      "cell_type": "code",
      "source": [
        "#8. Making an argument optional\n",
        "# Function to return a full name, where the middle name is optional\n",
        "def get_formatted_name(first_name, last_name, middle_name=''):\n",
        "    \"\"\"Return a full name, neatly formatted. Middle name is optional.\"\"\"\n",
        "    if middle_name:\n",
        "        # If middle name is provided, include it in the full name\n",
        "        full_name = f\"{first_name} {middle_name} {last_name}\"\n",
        "    else:\n",
        "        # If no middle name, just use first and last name\n",
        "        full_name = f\"{first_name} {last_name}\"\n",
        "\n",
        "    return full_name.title()  # Return the full name in title case (e.g., Jimi Hendrix)\n",
        "\n",
        "# Calling the function with only first and last name\n",
        "musician = get_formatted_name('jimi', 'hendrix')\n",
        "print(musician)\n",
        "\n",
        "# Calling the function with a middle name\n",
        "musician = get_formatted_name('john', 'doe', 'paul')\n",
        "print(musician)"
      ],
      "metadata": {
        "colab": {
          "base_uri": "https://localhost:8080/"
        },
        "id": "LzttvwAeHGKU",
        "outputId": "d02580f6-357c-40ec-ceda-14558d22818d"
      },
      "execution_count": 8,
      "outputs": [
        {
          "output_type": "stream",
          "name": "stdout",
          "text": [
            "Jimi Hendrix\n",
            "John Paul Doe\n"
          ]
        }
      ]
    },
    {
      "cell_type": "code",
      "source": [
        "#9. Returning a dictionary\n",
        "def get_formatted_name(first_name, last_name):\n",
        "    \"\"\"Return a dictionary with full name details\"\"\"\n",
        "    return {\n",
        "        'first_name': first_name.title(),\n",
        "        'last_name': last_name.title()\n",
        "    }\n",
        "\n",
        "musician = get_formatted_name('jimi','hendrix')\n",
        "print(musician)"
      ],
      "metadata": {
        "colab": {
          "base_uri": "https://localhost:8080/"
        },
        "id": "TZOMwyUVHKga",
        "outputId": "1c8db681-8a7f-494d-b35b-6afea0dd9615"
      },
      "execution_count": 9,
      "outputs": [
        {
          "output_type": "stream",
          "name": "stdout",
          "text": [
            "{'first_name': 'Jimi', 'last_name': 'Hendrix'}\n"
          ]
        }
      ]
    },
    {
      "cell_type": "code",
      "source": [
        "#10. Passing a list\n",
        "def greet_user(names):\n",
        "    # printing a list of elements\n",
        "    for name in names:\n",
        "        msg = f\"Hello, {name}\"\n",
        "        print(msg)\n",
        "\n",
        "names = ['DheviSri','Kamesh','Anu','Sudha']\n",
        "greet_user(names)"
      ],
      "metadata": {
        "colab": {
          "base_uri": "https://localhost:8080/"
        },
        "id": "E5EfLCxXHMrw",
        "outputId": "b21a9cdd-f2fe-4202-a081-6c88efeba683"
      },
      "execution_count": 11,
      "outputs": [
        {
          "output_type": "stream",
          "name": "stdout",
          "text": [
            "Hello, DheviSri\n",
            "Hello, Kamesh\n",
            "Hello, Anu\n",
            "Hello, Sudha\n"
          ]
        }
      ]
    },
    {
      "cell_type": "code",
      "source": [
        "#11. Modifying a list\n",
        "def greet_and_store(names, greeted_names):\n",
        "    # Greet each user and move them to greeted_names list\n",
        "    while names:\n",
        "        name = names.pop(0)  # Remove from original list (from front)\n",
        "        print(f\"Hello, {name}\")\n",
        "        greeted_names.append(name)  # Add to greeted list\n",
        "\n",
        "# Original list of names\n",
        "names = ['SriDhevi', 'Kamesh', 'Anu', 'Sudha']\n",
        "greeted_names = []\n",
        "\n",
        "# Call the function\n",
        "greet_and_store(names, greeted_names)\n",
        "\n",
        "# Display greeted users\n",
        "print(\"\\nGreeted users:\")\n",
        "print(greeted_names)"
      ],
      "metadata": {
        "colab": {
          "base_uri": "https://localhost:8080/"
        },
        "id": "G_Zpim8DHZMl",
        "outputId": "fd7c78ee-8895-411f-e6de-b06927061ea2"
      },
      "execution_count": 13,
      "outputs": [
        {
          "output_type": "stream",
          "name": "stdout",
          "text": [
            "Hello, SriDhevi\n",
            "Hello, Kamesh\n",
            "Hello, Anu\n",
            "Hello, Sudha\n",
            "\n",
            "Greeted users:\n",
            "['SriDhevi', 'Kamesh', 'Anu', 'Sudha']\n"
          ]
        }
      ]
    },
    {
      "cell_type": "code",
      "source": [
        "print(names)"
      ],
      "metadata": {
        "colab": {
          "base_uri": "https://localhost:8080/"
        },
        "id": "N7vf6dMeHhd8",
        "outputId": "cb7ca187-fd17-4262-e07b-6d22a017ded9"
      },
      "execution_count": 14,
      "outputs": [
        {
          "output_type": "stream",
          "name": "stdout",
          "text": [
            "[]\n"
          ]
        }
      ]
    },
    {
      "cell_type": "code",
      "source": [
        "#12. Protecting a list from updates\n",
        "def greet_and_store(names, greeted_names):\n",
        "    # Greet each user and move them to greeted_names list\n",
        "    while names:\n",
        "        name = names.pop(0)  # This modifies the copied list only\n",
        "        print(f\"Hello, {name}\")\n",
        "        greeted_names.append(name)\n",
        "\n",
        "# Original list of names\n",
        "names = ['DheviSri', 'Kamesh', 'Anu', 'Sudha']\n",
        "greeted_names = []\n",
        "\n",
        "# Pass a copy of the list using names[:]\n",
        "greet_and_store(names[:], greeted_names)\n",
        "\n",
        "# Show the original and modified lists\n",
        "print(\"\\nOriginal list:\")\n",
        "print(names)  # Unchanged\n",
        "\n",
        "print(\"\\nGreeted users:\")\n",
        "print(greeted_names)  # Only contains greeted names"
      ],
      "metadata": {
        "colab": {
          "base_uri": "https://localhost:8080/"
        },
        "id": "-Stm1igaHlNM",
        "outputId": "d32db45b-45c5-4e87-8627-824a03e2f0e8"
      },
      "execution_count": 15,
      "outputs": [
        {
          "output_type": "stream",
          "name": "stdout",
          "text": [
            "Hello, DheviSri\n",
            "Hello, Kamesh\n",
            "Hello, Anu\n",
            "Hello, Sudha\n",
            "\n",
            "Original list:\n",
            "['DheviSri', 'Kamesh', 'Anu', 'Sudha']\n",
            "\n",
            "Greeted users:\n",
            "['DheviSri', 'Kamesh', 'Anu', 'Sudha']\n"
          ]
        }
      ]
    },
    {
      "cell_type": "code",
      "source": [
        "#13. Passing an Arbitrary number of arguments\n",
        "def make_pizza(*toppings):\n",
        "    # printing n number of arguments\n",
        "    print(toppings)\n",
        "\n",
        "make_pizza(\"pepperoni\")\n",
        "make_pizza(\"pepperoni\",\"mushrooms\", \"green pepper\",\"extra cheese\")"
      ],
      "metadata": {
        "colab": {
          "base_uri": "https://localhost:8080/"
        },
        "id": "8IPwi7D-Ht1b",
        "outputId": "c7558434-388a-44c1-a439-4a1c1a2f51a2"
      },
      "execution_count": 16,
      "outputs": [
        {
          "output_type": "stream",
          "name": "stdout",
          "text": [
            "('pepperoni',)\n",
            "('pepperoni', 'mushrooms', 'green pepper', 'extra cheese')\n"
          ]
        }
      ]
    },
    {
      "cell_type": "code",
      "source": [
        "#14. Mixing Positional and Arbitrary Arguments\n",
        "def make_pizza(size, *toppings):\n",
        "    # size is a postional and toppings is a keyword argument\n",
        "    print(f\"\\n Making a {size}-inch pizza with the following toppings\")\n",
        "    for topping in toppings:\n",
        "        print(f\"- {topping}\")\n",
        "\n",
        "make_pizza(16,\"pepperoni\")\n",
        "make_pizza(22,\"pepperoni\",\"mushrooms\", \"green pepper\",\"extra cheese\")"
      ],
      "metadata": {
        "colab": {
          "base_uri": "https://localhost:8080/"
        },
        "id": "J83j4mjXHzaC",
        "outputId": "a80f090d-7764-41c0-d04a-6a8a9cbc4de2"
      },
      "execution_count": 17,
      "outputs": [
        {
          "output_type": "stream",
          "name": "stdout",
          "text": [
            "\n",
            " Making a 16-inch pizza with the following toppings\n",
            "- pepperoni\n",
            "\n",
            " Making a 22-inch pizza with the following toppings\n",
            "- pepperoni\n",
            "- mushrooms\n",
            "- green pepper\n",
            "- extra cheese\n"
          ]
        }
      ]
    },
    {
      "cell_type": "code",
      "source": [
        "#15. Using Arbitrary Keyword Arguments\n",
        "def build_profile(first, last, **user_info):\n",
        "    # positional and keyword arguments returning a dict\n",
        "    user_info['first_name'] = first\n",
        "    user_info['last_name'] = last\n",
        "    return user_info\n",
        "\n",
        "user_profile = build_profile('albert','einstein',location='princeton',field='physics')\n",
        "print(user_profile)"
      ],
      "metadata": {
        "colab": {
          "base_uri": "https://localhost:8080/"
        },
        "id": "4U7WS5vxH7I1",
        "outputId": "74c0cbc3-b349-4cb4-e199-cf551d4c9864"
      },
      "execution_count": 18,
      "outputs": [
        {
          "output_type": "stream",
          "name": "stdout",
          "text": [
            "{'location': 'princeton', 'field': 'physics', 'first_name': 'albert', 'last_name': 'einstein'}\n"
          ]
        }
      ]
    },
    {
      "cell_type": "code",
      "source": [
        "#16. Storing your function in modules\n",
        "!pip install nbimporter\n"
      ],
      "metadata": {
        "colab": {
          "base_uri": "https://localhost:8080/"
        },
        "id": "iKq6Ox2sH_2p",
        "outputId": "e8acc9dc-64ec-4e1c-de85-3f83865ace6c"
      },
      "execution_count": 19,
      "outputs": [
        {
          "output_type": "stream",
          "name": "stdout",
          "text": [
            "Collecting nbimporter\n",
            "  Downloading nbimporter-0.3.4-py3-none-any.whl.metadata (252 bytes)\n",
            "Downloading nbimporter-0.3.4-py3-none-any.whl (4.9 kB)\n",
            "Installing collected packages: nbimporter\n",
            "Successfully installed nbimporter-0.3.4\n"
          ]
        }
      ]
    },
    {
      "cell_type": "code",
      "source": [
        "!pip install ipynb"
      ],
      "metadata": {
        "colab": {
          "base_uri": "https://localhost:8080/"
        },
        "id": "AhfPDXEZIJK-",
        "outputId": "569b0517-faf2-4c8f-f14b-bde0afa21b2f"
      },
      "execution_count": 20,
      "outputs": [
        {
          "output_type": "stream",
          "name": "stdout",
          "text": [
            "Collecting ipynb\n",
            "  Downloading ipynb-0.5.1-py3-none-any.whl.metadata (303 bytes)\n",
            "Downloading ipynb-0.5.1-py3-none-any.whl (6.9 kB)\n",
            "Installing collected packages: ipynb\n",
            "Successfully installed ipynb-0.5.1\n"
          ]
        }
      ]
    },
    {
      "cell_type": "code",
      "source": [
        "!apt-get -qq install -y libfluidsynth1"
      ],
      "metadata": {
        "colab": {
          "base_uri": "https://localhost:8080/"
        },
        "id": "bO0p56eYJMWU",
        "outputId": "8730229e-845b-49b3-ec34-1da8a4a80da1"
      },
      "execution_count": 23,
      "outputs": [
        {
          "output_type": "stream",
          "name": "stdout",
          "text": [
            "E: Package 'libfluidsynth1' has no installation candidate\n"
          ]
        }
      ]
    },
    {
      "cell_type": "code",
      "source": [
        "!pip install matplotlib-venn"
      ],
      "metadata": {
        "colab": {
          "base_uri": "https://localhost:8080/"
        },
        "id": "BODd7XJBJSZq",
        "outputId": "169f10f8-d755-4043-dffa-4ce37a6f7664"
      },
      "execution_count": 24,
      "outputs": [
        {
          "output_type": "stream",
          "name": "stdout",
          "text": [
            "Requirement already satisfied: matplotlib-venn in /usr/local/lib/python3.11/dist-packages (1.1.2)\n",
            "Requirement already satisfied: matplotlib in /usr/local/lib/python3.11/dist-packages (from matplotlib-venn) (3.10.0)\n",
            "Requirement already satisfied: numpy in /usr/local/lib/python3.11/dist-packages (from matplotlib-venn) (2.0.2)\n",
            "Requirement already satisfied: scipy in /usr/local/lib/python3.11/dist-packages (from matplotlib-venn) (1.16.0)\n",
            "Requirement already satisfied: contourpy>=1.0.1 in /usr/local/lib/python3.11/dist-packages (from matplotlib->matplotlib-venn) (1.3.2)\n",
            "Requirement already satisfied: cycler>=0.10 in /usr/local/lib/python3.11/dist-packages (from matplotlib->matplotlib-venn) (0.12.1)\n",
            "Requirement already satisfied: fonttools>=4.22.0 in /usr/local/lib/python3.11/dist-packages (from matplotlib->matplotlib-venn) (4.59.0)\n",
            "Requirement already satisfied: kiwisolver>=1.3.1 in /usr/local/lib/python3.11/dist-packages (from matplotlib->matplotlib-venn) (1.4.8)\n",
            "Requirement already satisfied: packaging>=20.0 in /usr/local/lib/python3.11/dist-packages (from matplotlib->matplotlib-venn) (25.0)\n",
            "Requirement already satisfied: pillow>=8 in /usr/local/lib/python3.11/dist-packages (from matplotlib->matplotlib-venn) (11.3.0)\n",
            "Requirement already satisfied: pyparsing>=2.3.1 in /usr/local/lib/python3.11/dist-packages (from matplotlib->matplotlib-venn) (3.2.3)\n",
            "Requirement already satisfied: python-dateutil>=2.7 in /usr/local/lib/python3.11/dist-packages (from matplotlib->matplotlib-venn) (2.9.0.post0)\n",
            "Requirement already satisfied: six>=1.5 in /usr/local/lib/python3.11/dist-packages (from python-dateutil>=2.7->matplotlib->matplotlib-venn) (1.17.0)\n"
          ]
        }
      ]
    },
    {
      "cell_type": "code",
      "source": [
        "# https://pypi.python.org/pypi/libarchive\n",
        "!apt-get -qq install -y libarchive-dev && pip install -U libarchive\n",
        "import libarchive"
      ],
      "metadata": {
        "colab": {
          "base_uri": "https://localhost:8080/"
        },
        "id": "mHynZi6lJg_N",
        "outputId": "f7bcb4c0-a2af-4fcc-fd62-e9ef2741f4d6"
      },
      "execution_count": 26,
      "outputs": [
        {
          "output_type": "stream",
          "name": "stdout",
          "text": [
            "Selecting previously unselected package libarchive-dev:amd64.\n",
            "(Reading database ... 126284 files and directories currently installed.)\n",
            "Preparing to unpack .../libarchive-dev_3.6.0-1ubuntu1.5_amd64.deb ...\n",
            "Unpacking libarchive-dev:amd64 (3.6.0-1ubuntu1.5) ...\n",
            "Setting up libarchive-dev:amd64 (3.6.0-1ubuntu1.5) ...\n",
            "Processing triggers for man-db (2.10.2-1) ...\n",
            "Collecting libarchive\n",
            "  Downloading libarchive-0.4.7.tar.gz (23 kB)\n",
            "  Preparing metadata (setup.py) ... \u001b[?25l\u001b[?25hdone\n",
            "Collecting nose (from libarchive)\n",
            "  Downloading nose-1.3.7-py3-none-any.whl.metadata (1.7 kB)\n",
            "Downloading nose-1.3.7-py3-none-any.whl (154 kB)\n",
            "\u001b[2K   \u001b[90m━━━━━━━━━━━━━━━━━━━━━━━━━━━━━━━━━━━━━━━━\u001b[0m \u001b[32m154.7/154.7 kB\u001b[0m \u001b[31m8.7 MB/s\u001b[0m eta \u001b[36m0:00:00\u001b[0m\n",
            "\u001b[?25hBuilding wheels for collected packages: libarchive\n",
            "  Building wheel for libarchive (setup.py) ... \u001b[?25l\u001b[?25hdone\n",
            "  Created wheel for libarchive: filename=libarchive-0.4.7-py3-none-any.whl size=31629 sha256=04bbfdc7589ad6417ebbfb4374402139bf8b2ce55416711797c707c991ffd05e\n",
            "  Stored in directory: /root/.cache/pip/wheels/32/98/bd/4893d6923dd027f455b250367d402bfd69a6f4416581df46db\n",
            "Successfully built libarchive\n",
            "Installing collected packages: nose, libarchive\n",
            "Successfully installed libarchive-0.4.7 nose-1.3.7\n"
          ]
        }
      ]
    },
    {
      "cell_type": "code",
      "source": [
        "# https://pypi.python.org/pypi/pydot\n",
        "!apt-get -qq install -y graphviz && pip install pydot\n",
        "import pydot"
      ],
      "metadata": {
        "colab": {
          "base_uri": "https://localhost:8080/"
        },
        "id": "AZtvzhcEJn-c",
        "outputId": "e2d46f0d-fb49-479f-9a5e-839d91bf793b"
      },
      "execution_count": 27,
      "outputs": [
        {
          "output_type": "stream",
          "name": "stdout",
          "text": [
            "Requirement already satisfied: pydot in /usr/local/lib/python3.11/dist-packages (3.0.4)\n",
            "Requirement already satisfied: pyparsing>=3.0.9 in /usr/local/lib/python3.11/dist-packages (from pydot) (3.2.3)\n"
          ]
        }
      ]
    },
    {
      "cell_type": "code",
      "source": [
        "!pip install cartopy\n",
        "import cartopy"
      ],
      "metadata": {
        "colab": {
          "base_uri": "https://localhost:8080/"
        },
        "id": "zXY3v5nUJs0W",
        "outputId": "42a33f39-030a-4470-f734-7dff792f5dfb"
      },
      "execution_count": 28,
      "outputs": [
        {
          "output_type": "stream",
          "name": "stdout",
          "text": [
            "Collecting cartopy\n",
            "  Downloading cartopy-0.25.0-cp311-cp311-manylinux_2_24_x86_64.manylinux_2_28_x86_64.whl.metadata (6.1 kB)\n",
            "Requirement already satisfied: numpy>=1.23 in /usr/local/lib/python3.11/dist-packages (from cartopy) (2.0.2)\n",
            "Requirement already satisfied: matplotlib>=3.6 in /usr/local/lib/python3.11/dist-packages (from cartopy) (3.10.0)\n",
            "Requirement already satisfied: shapely>=2.0 in /usr/local/lib/python3.11/dist-packages (from cartopy) (2.1.1)\n",
            "Requirement already satisfied: packaging>=21 in /usr/local/lib/python3.11/dist-packages (from cartopy) (25.0)\n",
            "Requirement already satisfied: pyshp>=2.3 in /usr/local/lib/python3.11/dist-packages (from cartopy) (2.3.1)\n",
            "Requirement already satisfied: pyproj>=3.3.1 in /usr/local/lib/python3.11/dist-packages (from cartopy) (3.7.1)\n",
            "Requirement already satisfied: contourpy>=1.0.1 in /usr/local/lib/python3.11/dist-packages (from matplotlib>=3.6->cartopy) (1.3.2)\n",
            "Requirement already satisfied: cycler>=0.10 in /usr/local/lib/python3.11/dist-packages (from matplotlib>=3.6->cartopy) (0.12.1)\n",
            "Requirement already satisfied: fonttools>=4.22.0 in /usr/local/lib/python3.11/dist-packages (from matplotlib>=3.6->cartopy) (4.59.0)\n",
            "Requirement already satisfied: kiwisolver>=1.3.1 in /usr/local/lib/python3.11/dist-packages (from matplotlib>=3.6->cartopy) (1.4.8)\n",
            "Requirement already satisfied: pillow>=8 in /usr/local/lib/python3.11/dist-packages (from matplotlib>=3.6->cartopy) (11.3.0)\n",
            "Requirement already satisfied: pyparsing>=2.3.1 in /usr/local/lib/python3.11/dist-packages (from matplotlib>=3.6->cartopy) (3.2.3)\n",
            "Requirement already satisfied: python-dateutil>=2.7 in /usr/local/lib/python3.11/dist-packages (from matplotlib>=3.6->cartopy) (2.9.0.post0)\n",
            "Requirement already satisfied: certifi in /usr/local/lib/python3.11/dist-packages (from pyproj>=3.3.1->cartopy) (2025.7.14)\n",
            "Requirement already satisfied: six>=1.5 in /usr/local/lib/python3.11/dist-packages (from python-dateutil>=2.7->matplotlib>=3.6->cartopy) (1.17.0)\n",
            "Downloading cartopy-0.25.0-cp311-cp311-manylinux_2_24_x86_64.manylinux_2_28_x86_64.whl (11.8 MB)\n",
            "\u001b[2K   \u001b[90m━━━━━━━━━━━━━━━━━━━━━━━━━━━━━━━━━━━━━━━━\u001b[0m \u001b[32m11.8/11.8 MB\u001b[0m \u001b[31m79.4 MB/s\u001b[0m eta \u001b[36m0:00:00\u001b[0m\n",
            "\u001b[?25hInstalling collected packages: cartopy\n",
            "Successfully installed cartopy-0.25.0\n"
          ]
        }
      ]
    }
  ]
}