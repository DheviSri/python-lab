{
  "nbformat": 4,
  "nbformat_minor": 0,
  "metadata": {
    "colab": {
      "provenance": [],
      "authorship_tag": "ABX9TyNKosB+eZTsj2eV+h/CqHZu",
      "include_colab_link": true
    },
    "kernelspec": {
      "name": "python3",
      "display_name": "Python 3"
    },
    "language_info": {
      "name": "python"
    }
  },
  "cells": [
    {
      "cell_type": "markdown",
      "metadata": {
        "id": "view-in-github",
        "colab_type": "text"
      },
      "source": [
        "<a href=\"https://colab.research.google.com/github/DheviSri/python-lab/blob/main/Lab_5.ipynb\" target=\"_parent\"><img src=\"https://colab.research.google.com/assets/colab-badge.svg\" alt=\"Open In Colab\"/></a>"
      ]
    },
    {
      "cell_type": "code",
      "execution_count": 2,
      "metadata": {
        "id": "h7Apqpec1nbe"
      },
      "outputs": [],
      "source": [
        "L = [1,2,3,4,5,6,7]  #Original List\n"
      ]
    },
    {
      "cell_type": "code",
      "source": [
        "# Printing from third to last elements of a list\n",
        "L[2:]"
      ],
      "metadata": {
        "colab": {
          "base_uri": "https://localhost:8080/"
        },
        "id": "uvm2wbl82BVQ",
        "outputId": "1d938f89-742c-41c3-a70a-91284c11485c"
      },
      "execution_count": 3,
      "outputs": [
        {
          "output_type": "execute_result",
          "data": {
            "text/plain": [
              "[3, 4, 5, 6, 7]"
            ]
          },
          "metadata": {},
          "execution_count": 3
        }
      ]
    },
    {
      "cell_type": "code",
      "source": [
        "# Printing first two elements of a list\n",
        "L[:2]"
      ],
      "metadata": {
        "colab": {
          "base_uri": "https://localhost:8080/"
        },
        "id": "kg9UBs6n2GZR",
        "outputId": "2b5ccf9e-3fe9-42a9-9011-333c2a27a839"
      },
      "execution_count": 4,
      "outputs": [
        {
          "output_type": "execute_result",
          "data": {
            "text/plain": [
              "[1, 2]"
            ]
          },
          "metadata": {},
          "execution_count": 4
        }
      ]
    },
    {
      "cell_type": "code",
      "source": [
        "# Printing the last two elements\n",
        "L[-2:]"
      ],
      "metadata": {
        "colab": {
          "base_uri": "https://localhost:8080/"
        },
        "id": "UDyOnJ1l2K3L",
        "outputId": "1ec47752-16ae-4178-f07c-7209daef0a92"
      },
      "execution_count": 5,
      "outputs": [
        {
          "output_type": "execute_result",
          "data": {
            "text/plain": [
              "[6, 7]"
            ]
          },
          "metadata": {},
          "execution_count": 5
        }
      ]
    },
    {
      "cell_type": "code",
      "source": [
        "# Printing from last elements (last two elements)\n",
        "L[-1:-3:-1]"
      ],
      "metadata": {
        "colab": {
          "base_uri": "https://localhost:8080/"
        },
        "id": "KTayXgHa2Nxe",
        "outputId": "13390271-4365-43f0-e6ca-753e5f305640"
      },
      "execution_count": 6,
      "outputs": [
        {
          "output_type": "execute_result",
          "data": {
            "text/plain": [
              "[7, 6]"
            ]
          },
          "metadata": {},
          "execution_count": 6
        }
      ]
    },
    {
      "cell_type": "code",
      "source": [
        "# Printing from last elements\n",
        "L[-1::-1]"
      ],
      "metadata": {
        "colab": {
          "base_uri": "https://localhost:8080/"
        },
        "id": "rGcN4oRu2Tsn",
        "outputId": "1561c65c-2bdd-4847-9902-54db56e4e635"
      },
      "execution_count": 7,
      "outputs": [
        {
          "output_type": "execute_result",
          "data": {
            "text/plain": [
              "[7, 6, 5, 4, 3, 2, 1]"
            ]
          },
          "metadata": {},
          "execution_count": 7
        }
      ]
    },
    {
      "cell_type": "code",
      "source": [
        "my_fav = ['cake','pizza','stew'] # Original List\n",
        "frd_fav1 = my_fav[:]\n",
        "frd_fav2 = my_fav"
      ],
      "metadata": {
        "id": "TX88pCIx2ZFm"
      },
      "execution_count": 8,
      "outputs": []
    },
    {
      "cell_type": "code",
      "source": [
        "print(my_fav)\n",
        "print(frd_fav1)  #Copy by Value\n",
        "print(frd_fav2)  #Copy by Reference"
      ],
      "metadata": {
        "colab": {
          "base_uri": "https://localhost:8080/"
        },
        "id": "R5ZBIMV42c-e",
        "outputId": "7f3fa051-2230-4c4b-e415-e88af9824e55"
      },
      "execution_count": 9,
      "outputs": [
        {
          "output_type": "stream",
          "name": "stdout",
          "text": [
            "['cake', 'pizza', 'stew']\n",
            "['cake', 'pizza', 'stew']\n",
            "['cake', 'pizza', 'stew']\n"
          ]
        }
      ]
    },
    {
      "cell_type": "code",
      "source": [
        "my_fav.append('porridge')  # Add new element to original list"
      ],
      "metadata": {
        "id": "NKOM-VVk2goW"
      },
      "execution_count": 10,
      "outputs": []
    },
    {
      "cell_type": "code",
      "source": [
        "print(my_fav)\n",
        "print(frd_fav1)  #Copy by Value\n",
        "print(frd_fav2)  #Copy by Reference"
      ],
      "metadata": {
        "colab": {
          "base_uri": "https://localhost:8080/"
        },
        "id": "MCXX99nb2j3F",
        "outputId": "17227e10-c63a-4f98-a5ba-ed2c33d65756"
      },
      "execution_count": 11,
      "outputs": [
        {
          "output_type": "stream",
          "name": "stdout",
          "text": [
            "['cake', 'pizza', 'stew', 'porridge']\n",
            "['cake', 'pizza', 'stew']\n",
            "['cake', 'pizza', 'stew', 'porridge']\n"
          ]
        }
      ]
    },
    {
      "cell_type": "code",
      "source": [
        "print(id(my_fav))    #Original list Address\n",
        "print(id(frd_fav1))  # Copy by Value list Address\n",
        "print(id(frd_fav2))  #Copy by Reference list Address"
      ],
      "metadata": {
        "colab": {
          "base_uri": "https://localhost:8080/"
        },
        "id": "m-E7iEqe2oNe",
        "outputId": "a6bf45dd-44b7-4db2-c2aa-f306fda66574"
      },
      "execution_count": 12,
      "outputs": [
        {
          "output_type": "stream",
          "name": "stdout",
          "text": [
            "138741407727488\n",
            "138741407711808\n",
            "138741407727488\n"
          ]
        }
      ]
    },
    {
      "cell_type": "code",
      "source": [
        "frd_copy = my_fav.copy()   # Inbuilt Copy function"
      ],
      "metadata": {
        "id": "aSRyos7x2rd-"
      },
      "execution_count": 13,
      "outputs": []
    },
    {
      "cell_type": "code",
      "source": [
        "my_fav.append('ice-cream')  # Add new element to original list"
      ],
      "metadata": {
        "id": "KSbtpRYB2u0G"
      },
      "execution_count": 14,
      "outputs": []
    },
    {
      "cell_type": "code",
      "source": [
        "print(my_fav)\n",
        "print(frd_copy)    # Copy by Value"
      ],
      "metadata": {
        "colab": {
          "base_uri": "https://localhost:8080/"
        },
        "id": "a7MKxnO62yDg",
        "outputId": "7962dba1-96b9-48ad-d3b0-6f4edcf8ae75"
      },
      "execution_count": 15,
      "outputs": [
        {
          "output_type": "stream",
          "name": "stdout",
          "text": [
            "['cake', 'pizza', 'stew', 'porridge', 'ice-cream']\n",
            "['cake', 'pizza', 'stew', 'porridge']\n"
          ]
        }
      ]
    },
    {
      "cell_type": "code",
      "source": [
        "# Looping through a Slice\n",
        "for item in L[:8]:\n",
        "    print(item)"
      ],
      "metadata": {
        "colab": {
          "base_uri": "https://localhost:8080/"
        },
        "id": "PXW16JQr21lR",
        "outputId": "78d22ca1-ef12-4b34-a8f1-5b74fa8d789f"
      },
      "execution_count": 16,
      "outputs": [
        {
          "output_type": "stream",
          "name": "stdout",
          "text": [
            "1\n",
            "2\n",
            "3\n",
            "4\n",
            "5\n",
            "6\n",
            "7\n"
          ]
        }
      ]
    },
    {
      "cell_type": "code",
      "source": [
        "# Looping through a Slice\n",
        "for item in my_fav[:6]:\n",
        "    print(item.title())"
      ],
      "metadata": {
        "colab": {
          "base_uri": "https://localhost:8080/"
        },
        "id": "6eeRRUTy24j7",
        "outputId": "194c7953-b6b0-42fb-8500-f342b6f6c3d2"
      },
      "execution_count": 17,
      "outputs": [
        {
          "output_type": "stream",
          "name": "stdout",
          "text": [
            "Cake\n",
            "Pizza\n",
            "Stew\n",
            "Porridge\n",
            "Ice-Cream\n"
          ]
        }
      ]
    },
    {
      "cell_type": "code",
      "source": [
        "t = (50,100) # Original Tuple\n",
        "t[1]"
      ],
      "metadata": {
        "colab": {
          "base_uri": "https://localhost:8080/"
        },
        "id": "c8hCBNBJ27yO",
        "outputId": "d01525f5-5258-49e3-859d-1d979d9d3ffc"
      },
      "execution_count": 18,
      "outputs": [
        {
          "output_type": "execute_result",
          "data": {
            "text/plain": [
              "100"
            ]
          },
          "metadata": {},
          "execution_count": 18
        }
      ]
    },
    {
      "cell_type": "code",
      "source": [
        "t[0] = -20 #object does not support item assignment"
      ],
      "metadata": {
        "colab": {
          "base_uri": "https://localhost:8080/",
          "height": 141
        },
        "id": "HvOiTUNr2_Jh",
        "outputId": "47ccbb96-1993-4bef-98c2-e1d25db1771e"
      },
      "execution_count": 19,
      "outputs": [
        {
          "output_type": "error",
          "ename": "TypeError",
          "evalue": "'tuple' object does not support item assignment",
          "traceback": [
            "\u001b[0;31m---------------------------------------------------------------------------\u001b[0m",
            "\u001b[0;31mTypeError\u001b[0m                                 Traceback (most recent call last)",
            "\u001b[0;32m/tmp/ipython-input-1409614293.py\u001b[0m in \u001b[0;36m<cell line: 0>\u001b[0;34m()\u001b[0m\n\u001b[0;32m----> 1\u001b[0;31m \u001b[0mt\u001b[0m\u001b[0;34m[\u001b[0m\u001b[0;36m0\u001b[0m\u001b[0;34m]\u001b[0m \u001b[0;34m=\u001b[0m \u001b[0;34m-\u001b[0m\u001b[0;36m20\u001b[0m \u001b[0;31m#object does not support item assignment\u001b[0m\u001b[0;34m\u001b[0m\u001b[0;34m\u001b[0m\u001b[0m\n\u001b[0m",
            "\u001b[0;31mTypeError\u001b[0m: 'tuple' object does not support item assignment"
          ]
        }
      ]
    },
    {
      "cell_type": "code",
      "source": [
        "tup1 = (1,2,3,4,5,6,7) #Original tuple\n",
        "print(tup1)"
      ],
      "metadata": {
        "colab": {
          "base_uri": "https://localhost:8080/"
        },
        "id": "21g-AFaB3Chu",
        "outputId": "b3b29442-b640-46d1-91b9-fa43392b7558"
      },
      "execution_count": 20,
      "outputs": [
        {
          "output_type": "stream",
          "name": "stdout",
          "text": [
            "(1, 2, 3, 4, 5, 6, 7)\n"
          ]
        }
      ]
    },
    {
      "cell_type": "code",
      "source": [
        "# Looping over a tuple\n",
        "for i in tup1:\n",
        "    print(i)"
      ],
      "metadata": {
        "colab": {
          "base_uri": "https://localhost:8080/"
        },
        "id": "VzvBwzPK3Gqf",
        "outputId": "511a0b9e-0912-4831-8be7-ecd63ae2e3b8"
      },
      "execution_count": 21,
      "outputs": [
        {
          "output_type": "stream",
          "name": "stdout",
          "text": [
            "1\n",
            "2\n",
            "3\n",
            "4\n",
            "5\n",
            "6\n",
            "7\n"
          ]
        }
      ]
    },
    {
      "cell_type": "code",
      "source": [
        "# Looping through a Slice (in tuple)\n",
        "for i in tup1[0:]:\n",
        "    print(i)"
      ],
      "metadata": {
        "colab": {
          "base_uri": "https://localhost:8080/"
        },
        "id": "xUUrcFx03Lqv",
        "outputId": "04a6af19-0e03-4b46-b6c4-e4bdae01c6cb"
      },
      "execution_count": 22,
      "outputs": [
        {
          "output_type": "stream",
          "name": "stdout",
          "text": [
            "1\n",
            "2\n",
            "3\n",
            "4\n",
            "5\n",
            "6\n",
            "7\n"
          ]
        }
      ]
    },
    {
      "cell_type": "code",
      "source": [
        "tup1 = (7,6,5,4,3,2,1) #Complete assignment (no error)\n",
        "print(tup1)"
      ],
      "metadata": {
        "colab": {
          "base_uri": "https://localhost:8080/"
        },
        "id": "3rE_LLKE3Rlb",
        "outputId": "a1fb066b-ad21-47f8-9115-a2882fd17042"
      },
      "execution_count": 23,
      "outputs": [
        {
          "output_type": "stream",
          "name": "stdout",
          "text": [
            "(7, 6, 5, 4, 3, 2, 1)\n"
          ]
        }
      ]
    },
    {
      "cell_type": "code",
      "source": [
        "student_1 = {'reg_no':'22MID0061', 'program':'python', 'cgpa':9.39, 'Attendace':100} # Original dict\n",
        "print(student_1)"
      ],
      "metadata": {
        "colab": {
          "base_uri": "https://localhost:8080/"
        },
        "id": "SWxRquXV3VZv",
        "outputId": "137825b7-8692-4aca-b221-be0eb198f242"
      },
      "execution_count": 24,
      "outputs": [
        {
          "output_type": "stream",
          "name": "stdout",
          "text": [
            "{'reg_no': '22MID0061', 'program': 'python', 'cgpa': 9.39, 'Attendace': 100}\n"
          ]
        }
      ]
    }
  ]
}