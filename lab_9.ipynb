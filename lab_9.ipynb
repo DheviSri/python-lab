{
  "nbformat": 4,
  "nbformat_minor": 0,
  "metadata": {
    "colab": {
      "provenance": [],
      "authorship_tag": "ABX9TyNRwvMYBSzH+pPsoxBNc53L",
      "include_colab_link": true
    },
    "kernelspec": {
      "name": "python3",
      "display_name": "Python 3"
    },
    "language_info": {
      "name": "python"
    }
  },
  "cells": [
    {
      "cell_type": "markdown",
      "metadata": {
        "id": "view-in-github",
        "colab_type": "text"
      },
      "source": [
        "<a href=\"https://colab.research.google.com/github/DheviSri/python-lab/blob/main/lab_9.ipynb\" target=\"_parent\"><img src=\"https://colab.research.google.com/assets/colab-badge.svg\" alt=\"Open In Colab\"/></a>"
      ]
    },
    {
      "cell_type": "code",
      "execution_count": 1,
      "metadata": {
        "id": "4LkHlwJM_LUZ"
      },
      "outputs": [],
      "source": [
        " class Emp1:\n",
        "    no_of_employees = 0\n",
        "    raise_amount = 1.04\n",
        "    def __init__(self, first, last, pay):\n",
        "        self.first = first\n",
        "        self.last = last\n",
        "        self.pay = pay\n",
        "    no_of_employees += 1\n",
        "\n",
        "    def apply_raise(self):\n",
        "        self.pay = int(self.pay * Emp1.raise_amount)"
      ]
    },
    {
      "cell_type": "code",
      "source": [
        " # class variable before creating instances\n",
        " print(Emp1.no_of_employees)"
      ],
      "metadata": {
        "colab": {
          "base_uri": "https://localhost:8080/"
        },
        "id": "ilF-gOgt_ZVN",
        "outputId": "d3605dbb-4573-4216-d9ba-484a591f922b"
      },
      "execution_count": 2,
      "outputs": [
        {
          "output_type": "stream",
          "name": "stdout",
          "text": [
            "1\n"
          ]
        }
      ]
    },
    {
      "cell_type": "code",
      "source": [
        " # Creating the Instances\n",
        " e1 = Emp1(\"Dhevi\",\"Sri\",\"500000\")\n",
        " e2 = Emp1(\"Dhevi\",\"Sri\",\"600000\")"
      ],
      "metadata": {
        "id": "kmZYlLzq_fZF"
      },
      "execution_count": 3,
      "outputs": []
    },
    {
      "cell_type": "code",
      "source": [
        "# class variable after creating instances\n",
        "print(Emp1.no_of_employees)"
      ],
      "metadata": {
        "colab": {
          "base_uri": "https://localhost:8080/"
        },
        "id": "SD4RI3Mh_p1g",
        "outputId": "d3902417-9cdf-48b7-bac8-094ee6854a68"
      },
      "execution_count": 5,
      "outputs": [
        {
          "output_type": "stream",
          "name": "stdout",
          "text": [
            "1\n"
          ]
        }
      ]
    },
    {
      "cell_type": "code",
      "source": [
        " # namespace for class\n",
        " print(Emp1.__dict__)"
      ],
      "metadata": {
        "colab": {
          "base_uri": "https://localhost:8080/"
        },
        "id": "TAbAMB8-_vJz",
        "outputId": "05d87baa-c17f-4529-8262-c05563fb9200"
      },
      "execution_count": 6,
      "outputs": [
        {
          "output_type": "stream",
          "name": "stdout",
          "text": [
            "{'__module__': '__main__', 'no_of_employees': 1, 'raise_amount': 1.04, '__init__': <function Emp1.__init__ at 0x7a427f916480>, 'apply_raise': <function Emp1.apply_raise at 0x7a427f916520>, '__dict__': <attribute '__dict__' of 'Emp1' objects>, '__weakref__': <attribute '__weakref__' of 'Emp1' objects>, '__doc__': None}\n"
          ]
        }
      ]
    },
    {
      "cell_type": "code",
      "source": [
        " # namespace of the first instance e1 before it accessing the class variable\n",
        " print(e1.__dict__)"
      ],
      "metadata": {
        "colab": {
          "base_uri": "https://localhost:8080/"
        },
        "id": "2l57nS2Y_5PP",
        "outputId": "5258d905-68f8-4c9e-cdbe-9b59a0fbe7b3"
      },
      "execution_count": 7,
      "outputs": [
        {
          "output_type": "stream",
          "name": "stdout",
          "text": [
            "{'first': 'Dhevi', 'last': 'Sri', 'pay': '500000'}\n"
          ]
        }
      ]
    },
    {
      "cell_type": "code",
      "source": [
        " # First Instance accessing and changing the class variable\n",
        " e1.raise_amount = 1.05"
      ],
      "metadata": {
        "id": "LYE6AFDF__Yi"
      },
      "execution_count": 8,
      "outputs": []
    },
    {
      "cell_type": "code",
      "source": [
        " # Namespace of the first instance e1 after it accessing the class variable\n",
        " print(e1.__dict__)"
      ],
      "metadata": {
        "colab": {
          "base_uri": "https://localhost:8080/"
        },
        "id": "eyFLX64PAChn",
        "outputId": "90af102a-897c-4358-8ed6-863407a120d4"
      },
      "execution_count": 9,
      "outputs": [
        {
          "output_type": "stream",
          "name": "stdout",
          "text": [
            "{'first': 'Dhevi', 'last': 'Sri', 'pay': '500000', 'raise_amount': 1.05}\n"
          ]
        }
      ]
    },
    {
      "cell_type": "code",
      "source": [
        " # Printing the class variable after the first instance changing it\n",
        " print(Emp1.raise_amount)"
      ],
      "metadata": {
        "colab": {
          "base_uri": "https://localhost:8080/"
        },
        "id": "ziIa9_W0AEyj",
        "outputId": "d99f96db-3b33-4db5-cbb6-574a56f59954"
      },
      "execution_count": 10,
      "outputs": [
        {
          "output_type": "stream",
          "name": "stdout",
          "text": [
            "1.04\n"
          ]
        }
      ]
    },
    {
      "cell_type": "code",
      "source": [
        " # printing the class variable using first instance\n",
        " print(e1.raise_amount)"
      ],
      "metadata": {
        "colab": {
          "base_uri": "https://localhost:8080/"
        },
        "id": "rf8k-9gWAICg",
        "outputId": "bfc50f15-60a8-4a34-c24c-61547fa280d3"
      },
      "execution_count": 11,
      "outputs": [
        {
          "output_type": "stream",
          "name": "stdout",
          "text": [
            "1.05\n"
          ]
        }
      ]
    },
    {
      "cell_type": "code",
      "source": [
        " # printing the class variable using second instance\n",
        " print(e2.raise_amount)"
      ],
      "metadata": {
        "colab": {
          "base_uri": "https://localhost:8080/"
        },
        "id": "IlfEG7OoALP8",
        "outputId": "f7305bf7-882e-49e5-f8e6-aac72a6d3ced"
      },
      "execution_count": 12,
      "outputs": [
        {
          "output_type": "stream",
          "name": "stdout",
          "text": [
            "1.04\n"
          ]
        }
      ]
    },
    {
      "cell_type": "code",
      "source": [
        " # Namespace of the second instance e2\n",
        "print(e2.__dict__)"
      ],
      "metadata": {
        "colab": {
          "base_uri": "https://localhost:8080/"
        },
        "id": "gCZk6VptANxP",
        "outputId": "7b2f5c91-0e25-4a44-fd20-05eaa0380e88"
      },
      "execution_count": 13,
      "outputs": [
        {
          "output_type": "stream",
          "name": "stdout",
          "text": [
            "{'first': 'Dhevi', 'last': 'Sri', 'pay': '600000'}\n"
          ]
        }
      ]
    },
    {
      "cell_type": "code",
      "source": [
        "#Task 2: Create the class and count the number of instances created"
      ],
      "metadata": {
        "id": "WTL6i-9BAQp8"
      },
      "execution_count": null,
      "outputs": []
    },
    {
      "cell_type": "code",
      "source": [
        " class Employee:\n",
        "    # Class variable to track the total number of employees\n",
        "    num_of_employees = 0\n",
        "    def __init__(self, first_name, last_name, pay):\n",
        "        self.first_name = first_name\n",
        "        self.last_name = last_name\n",
        "        self.pay = pay\n",
        "        self.email = f\"{first_name}.{last_name}@company.com\"\n",
        "        # Increment the employee count every time a new employee is created\n",
        "        Employee.num_of_employees += 1\n",
        "    def fullname(self):\n",
        "        return f\"{self.first_name} {self.last_name}\""
      ],
      "metadata": {
        "id": "daDum0JnAfr3"
      },
      "execution_count": 14,
      "outputs": []
    },
    {
      "cell_type": "code",
      "source": [
        "# object creation and accessing the members and member functions of the class\n",
        "print(f\"Initial employee count: {Employee.num_of_employees}\")  # Accessing the class variable"
      ],
      "metadata": {
        "colab": {
          "base_uri": "https://localhost:8080/"
        },
        "id": "XrzQRQCUAgUs",
        "outputId": "7e676ca6-1de4-42b0-fa66-482a8e935b08"
      },
      "execution_count": 16,
      "outputs": [
        {
          "output_type": "stream",
          "name": "stdout",
          "text": [
            "Initial employee count: 0\n"
          ]
        }
      ]
    },
    {
      "cell_type": "code",
      "source": [
        " # object creation\n",
        "emp_1 = Employee('Elon', 'Musk', 50000)\n",
        "emp_2 = Employee('Donald', 'Trump', 60000)"
      ],
      "metadata": {
        "id": "KEdJAM-iAjfn"
      },
      "execution_count": 17,
      "outputs": []
    },
    {
      "cell_type": "code",
      "source": [
        " # Accessing the class variable after object creation\n",
        " print(f\"Current employee count: {Employee.num_of_employees}\")"
      ],
      "metadata": {
        "colab": {
          "base_uri": "https://localhost:8080/"
        },
        "id": "7OuzllNDAoIn",
        "outputId": "24a96961-a37c-42d7-8740-0ef959cab5a1"
      },
      "execution_count": 18,
      "outputs": [
        {
          "output_type": "stream",
          "name": "stdout",
          "text": [
            "Current employee count: 2\n"
          ]
        }
      ]
    },
    {
      "cell_type": "code",
      "source": [
        "# Basic Inheritance"
      ],
      "metadata": {
        "id": "ND9mdN5mArIE"
      },
      "execution_count": 19,
      "outputs": []
    },
    {
      "cell_type": "code",
      "source": [
        " class Parent:        # Parent class\n",
        "    def greet(self):\n",
        "       print(\"Hello from parent\")\n",
        " class Child(Parent):   # Child class inheriting from the parents\n",
        "    pass"
      ],
      "metadata": {
        "id": "x2x2baywAuz-"
      },
      "execution_count": 20,
      "outputs": []
    },
    {
      "cell_type": "code",
      "source": [
        " obj = Child()  # creating the object for the child class\n",
        " obj.greet()  # child class accessing the parent class method"
      ],
      "metadata": {
        "colab": {
          "base_uri": "https://localhost:8080/"
        },
        "id": "jcdGaqUXA2av",
        "outputId": "8e4be10e-a10c-4ff7-8223-f75635ac3f34"
      },
      "execution_count": 21,
      "outputs": [
        {
          "output_type": "stream",
          "name": "stdout",
          "text": [
            "Hello from parent\n"
          ]
        }
      ]
    },
    {
      "cell_type": "code",
      "source": [
        "#Using super() to call a method from parent class"
      ],
      "metadata": {
        "id": "KnUlBzcFA5SV"
      },
      "execution_count": 22,
      "outputs": []
    },
    {
      "cell_type": "code",
      "source": [
        " class Parent:        # Parent class\n",
        "    def greet(self):\n",
        "        print(\"Hello from parent\")\n",
        " class Child(Parent):   # Child class inheriting from the parents\n",
        "    def greet(self):\n",
        "        super().greet() # calls Parent's greet\n",
        "        print(\"Hello from Child\")"
      ],
      "metadata": {
        "id": "8uTyJ7bUBTlq"
      },
      "execution_count": 23,
      "outputs": []
    },
    {
      "cell_type": "code",
      "source": [
        "obj = Child()  # creating the object for the child class\n",
        "obj.greet()  # child class accessing method"
      ],
      "metadata": {
        "colab": {
          "base_uri": "https://localhost:8080/"
        },
        "id": "FOH3gASrBWSM",
        "outputId": "0dc98a2b-1807-44b7-d641-09baf45a4d29"
      },
      "execution_count": 25,
      "outputs": [
        {
          "output_type": "stream",
          "name": "stdout",
          "text": [
            "Hello from parent\n",
            "Hello from Child\n"
          ]
        }
      ]
    },
    {
      "cell_type": "code",
      "source": [
        "#Task 1: Multiple Inheritance and multiple child classes accessing the class variable"
      ],
      "metadata": {
        "id": "ehiSEuKrBZZc"
      },
      "execution_count": 26,
      "outputs": []
    },
    {
      "cell_type": "code",
      "source": [
        " class Countable:\n",
        "    \"\"\"\n",
        "    A mixin class to add object counting functionality.\n",
        "    \"\"\"\n",
        "    object_count = 0  # Class variable to store the count\n",
        "    def __init__(self, *args, **kwargs):\n",
        "        # Increment the count when a new object is created\n",
        "         Countable.object_count += 1\n",
        "\n",
        "         super().__init__(*args, **kwargs)"
      ],
      "metadata": {
        "id": "UBhCiqpjBgmX"
      },
      "execution_count": 29,
      "outputs": []
    },
    {
      "cell_type": "code",
      "source": [
        " class Person:\n",
        "    def __init__(self, name):\n",
        "        self.name = name"
      ],
      "metadata": {
        "id": "wTMDeWPXBmgR"
      },
      "execution_count": 30,
      "outputs": []
    },
    {
      "cell_type": "code",
      "source": [
        "class Employee(Countable, Person): # Multiple inheritance\n",
        "    def __init__(self, name, employee_id):\n",
        "        # Call parent constructors using super()\n",
        "        super().__init__(name=name)\n",
        "        self.employee_id = employee_id"
      ],
      "metadata": {
        "id": "YUK0_t0JBvOy"
      },
      "execution_count": 31,
      "outputs": []
    },
    {
      "cell_type": "code",
      "source": [
        " # Accessing the class variable before creating the objects\n",
        " print(f\"Number of Employee objects created: {Employee.object_count}\")"
      ],
      "metadata": {
        "colab": {
          "base_uri": "https://localhost:8080/"
        },
        "id": "zQNAJljVBxG8",
        "outputId": "3bc6efda-e07c-49d6-88b1-75db273afaf9"
      },
      "execution_count": 32,
      "outputs": [
        {
          "output_type": "stream",
          "name": "stdout",
          "text": [
            "Number of Employee objects created: 0\n"
          ]
        }
      ]
    },
    {
      "cell_type": "code",
      "source": [
        " # Creating Employee objects\n",
        " employee1 = Employee(\"Alice\", \"E001\")\n",
        " employee2 = Employee(\"Bob\", \"E002\")\n",
        " employee3 = Employee(\"Charlie\", \"E003\")"
      ],
      "metadata": {
        "id": "CxJ0UwSoBz7h"
      },
      "execution_count": 33,
      "outputs": []
    },
    {
      "cell_type": "code",
      "source": [
        " # Accessing the class variable to get the count\n",
        " print(f\"Number of Employee objects created: {Employee.object_count}\")"
      ],
      "metadata": {
        "colab": {
          "base_uri": "https://localhost:8080/"
        },
        "id": "wXHtN3hNB2up",
        "outputId": "2b28860e-3ef1-4217-bfd1-c1e0f8a57779"
      },
      "execution_count": 34,
      "outputs": [
        {
          "output_type": "stream",
          "name": "stdout",
          "text": [
            "Number of Employee objects created: 3\n"
          ]
        }
      ]
    },
    {
      "cell_type": "code",
      "source": [
        " # We can also access it through an instance, but it's recommended to use the class name\n",
        " print(f\"Number of Employee objects created (via instance): {employee1.object_count}\")"
      ],
      "metadata": {
        "colab": {
          "base_uri": "https://localhost:8080/"
        },
        "id": "e2bp8zhYB5op",
        "outputId": "0912c0cf-7e15-4971-cb7b-3091e21ff07f"
      },
      "execution_count": 35,
      "outputs": [
        {
          "output_type": "stream",
          "name": "stdout",
          "text": [
            "Number of Employee objects created (via instance): 3\n"
          ]
        }
      ]
    },
    {
      "cell_type": "code",
      "source": [
        "# Task 3: Create the class that is inheriting from the class Emp1"
      ],
      "metadata": {
        "id": "axPyJ3IbB9QC"
      },
      "execution_count": 36,
      "outputs": []
    },
    {
      "cell_type": "code",
      "source": [
        " ## Task 3\n",
        " # child class accessing the Emp1 class\n",
        " class Emp2(Emp1):\n",
        "    def __init__(self, first, last, pay):\n",
        "       # Call parent constructors using super()\n",
        "        super().__init__(first, last, pay)\n",
        "    def apply_raise(self):\n",
        "        super().apply_raise()"
      ],
      "metadata": {
        "id": "aN0po4jRCAB6"
      },
      "execution_count": 37,
      "outputs": []
    },
    {
      "cell_type": "code",
      "source": [
        "e3 = Emp2(\"dhevi\",\"Sri\",100000000) # creating the instance for child class inheriting from Emp1 class"
      ],
      "metadata": {
        "id": "XLfPUqMVCGTH"
      },
      "execution_count": 39,
      "outputs": []
    },
    {
      "cell_type": "code",
      "source": [
        " e3.apply_raise()   # Instance accessing the inherited method"
      ],
      "metadata": {
        "id": "-OkW3xIeCJO3"
      },
      "execution_count": 40,
      "outputs": []
    },
    {
      "cell_type": "code",
      "source": [
        "print(e3.pay)    # Object accessing the instance variable"
      ],
      "metadata": {
        "colab": {
          "base_uri": "https://localhost:8080/"
        },
        "id": "11gv5XNuCOpg",
        "outputId": "f99be898-797a-4a0c-fc1e-ec60297008a7"
      },
      "execution_count": 41,
      "outputs": [
        {
          "output_type": "stream",
          "name": "stdout",
          "text": [
            "104000000\n"
          ]
        }
      ]
    },
    {
      "cell_type": "code",
      "source": [
        "print(e3.raise_amount)  # Object accessing the class variable"
      ],
      "metadata": {
        "colab": {
          "base_uri": "https://localhost:8080/"
        },
        "id": "2HZnsPbOCgGY",
        "outputId": "c7dc0d33-d6b8-430d-dc16-7d809c16169b"
      },
      "execution_count": 42,
      "outputs": [
        {
          "output_type": "stream",
          "name": "stdout",
          "text": [
            "1.04\n"
          ]
        }
      ]
    },
    {
      "cell_type": "code",
      "source": [
        "# Multiple Inheritance"
      ],
      "metadata": {
        "id": "v1PJslmQCjOY"
      },
      "execution_count": 43,
      "outputs": []
    },
    {
      "cell_type": "code",
      "source": [
        "class A:\n",
        "    def method_a(self):\n",
        "        print(\"Method A\")\n",
        "class B:\n",
        "    def method_b(self):\n",
        "        print(\"Method B\")\n",
        "class C(A,B):  # Class inheriting from A and B class\n",
        "    pass"
      ],
      "metadata": {
        "id": "vwoiWB_oCm4h"
      },
      "execution_count": 46,
      "outputs": []
    },
    {
      "cell_type": "code",
      "source": [
        " obj = C()\n",
        " obj.method_a()  # child class accessing parent class methods\n",
        " obj.method_b()"
      ],
      "metadata": {
        "colab": {
          "base_uri": "https://localhost:8080/"
        },
        "id": "Sm6XgsF8Cp3y",
        "outputId": "94870ae6-0800-4e2a-df10-8f903134cf95"
      },
      "execution_count": 47,
      "outputs": [
        {
          "output_type": "stream",
          "name": "stdout",
          "text": [
            "Method A\n",
            "Method B\n"
          ]
        }
      ]
    },
    {
      "cell_type": "code",
      "source": [
        "#Multi Level Inheritance"
      ],
      "metadata": {
        "id": "9-u45LLUCu8b"
      },
      "execution_count": 48,
      "outputs": []
    },
    {
      "cell_type": "code",
      "source": [
        "class A:\n",
        "    def method_a(self):\n",
        "        print(\"Method A\")\n",
        "class B(A):               # Class inheriting from A\n",
        "    def method_b(self):\n",
        "        super().method_a()\n",
        "        print(\"Method B\")\n",
        "class C(B):             # Class inheriting from B\n",
        "    def method_c(self):\n",
        "        super().method_b()\n",
        "        print(\"Method C\")"
      ],
      "metadata": {
        "id": "au9ejRLQCyuu"
      },
      "execution_count": 51,
      "outputs": []
    },
    {
      "cell_type": "code",
      "source": [
        "obj = C()\n",
        "obj.method_c()  # object accessing its method"
      ],
      "metadata": {
        "colab": {
          "base_uri": "https://localhost:8080/"
        },
        "id": "xr9kvVTbC1Me",
        "outputId": "a2323eeb-6aa1-47b5-b3ba-3cea2fd53d71"
      },
      "execution_count": 52,
      "outputs": [
        {
          "output_type": "stream",
          "name": "stdout",
          "text": [
            "Method A\n",
            "Method B\n",
            "Method C\n"
          ]
        }
      ]
    },
    {
      "cell_type": "code",
      "source": [
        "# Understanding that Inheritance is Uni-Directional"
      ],
      "metadata": {
        "id": "jFyPyGgUC7f7"
      },
      "execution_count": 53,
      "outputs": []
    },
    {
      "cell_type": "code",
      "source": [
        " class Contact:\n",
        "    all_contacts = []\n",
        "    def __init__(self, name, email):\n",
        "        self.name = name\n",
        "        self.email = email\n",
        "        Contact.all_contacts.append(self)"
      ],
      "metadata": {
        "id": "vFSn0FXzC_T1"
      },
      "execution_count": 54,
      "outputs": []
    },
    {
      "cell_type": "code",
      "source": [
        " class Supplier(Contact):\n",
        "    def order(self,order):\n",
        "        print(\"Send\"\"{} order to {}\".format(self,self.name))\n",
        "c = Contact(\"Dhevi\",\"Dhevi@gmail.com\")\n",
        "s = Supplier(\"Ram\",\"Ram@gmail.com\")\n",
        "print(c.name,c.email,s.name, s.email)"
      ],
      "metadata": {
        "colab": {
          "base_uri": "https://localhost:8080/"
        },
        "id": "ihRpLrcsDBsl",
        "outputId": "e082c13d-352d-4299-80c6-4f20f2696fa7"
      },
      "execution_count": 69,
      "outputs": [
        {
          "output_type": "stream",
          "name": "stdout",
          "text": [
            "Dhevi Dhevi@gmail.com Ram Ram@gmail.com\n"
          ]
        }
      ]
    },
    {
      "cell_type": "code",
      "source": [
        "c.all_contacts"
      ],
      "metadata": {
        "colab": {
          "base_uri": "https://localhost:8080/"
        },
        "id": "WSnuSjodDHF_",
        "outputId": "91be2ca5-cc38-493a-eb2e-da8c6b4c22b7"
      },
      "execution_count": 70,
      "outputs": [
        {
          "output_type": "execute_result",
          "data": {
            "text/plain": [
              "[<__main__.Supplier at 0x7a427f995eb0>,\n",
              " <__main__.Contact at 0x7a427f997740>,\n",
              " <__main__.Contact at 0x7a427f00c0e0>,\n",
              " <__main__.Supplier at 0x7a427f00d040>]"
            ]
          },
          "metadata": {},
          "execution_count": 70
        }
      ]
    },
    {
      "cell_type": "code",
      "source": [
        "c.order(\"I need pliers\")   # parent class has no access to child class members and member functions (It is Uni-dire"
      ],
      "metadata": {
        "colab": {
          "base_uri": "https://localhost:8080/",
          "height": 141
        },
        "id": "dsDdLaA9DXXe",
        "outputId": "7d8c4578-1911-4fcf-c1a3-aa03e9c79700"
      },
      "execution_count": 71,
      "outputs": [
        {
          "output_type": "error",
          "ename": "AttributeError",
          "evalue": "'Contact' object has no attribute 'order'",
          "traceback": [
            "\u001b[0;31m---------------------------------------------------------------------------\u001b[0m",
            "\u001b[0;31mAttributeError\u001b[0m                            Traceback (most recent call last)",
            "\u001b[0;32m/tmp/ipython-input-1837414902.py\u001b[0m in \u001b[0;36m<cell line: 0>\u001b[0;34m()\u001b[0m\n\u001b[0;32m----> 1\u001b[0;31m \u001b[0mc\u001b[0m\u001b[0;34m.\u001b[0m\u001b[0morder\u001b[0m\u001b[0;34m(\u001b[0m\u001b[0;34m\"I need pliers\"\u001b[0m\u001b[0;34m)\u001b[0m   \u001b[0;31m# parent class has no access to child class members and member functions (It is Uni-dire\u001b[0m\u001b[0;34m\u001b[0m\u001b[0;34m\u001b[0m\u001b[0m\n\u001b[0m",
            "\u001b[0;31mAttributeError\u001b[0m: 'Contact' object has no attribute 'order'"
          ]
        }
      ]
    },
    {
      "cell_type": "code",
      "source": [
        "s.order(\"I need pliers\")  # fixing the above error"
      ],
      "metadata": {
        "colab": {
          "base_uri": "https://localhost:8080/"
        },
        "id": "W-cQBX_-Dghz",
        "outputId": "28e29890-0ccf-41dc-a51a-e0064a3b18d3"
      },
      "execution_count": 64,
      "outputs": [
        {
          "output_type": "stream",
          "name": "stdout",
          "text": [
            "Send<__main__.Supplier object at 0x7a427f995eb0> order to Kamesh\n"
          ]
        }
      ]
    },
    {
      "cell_type": "code",
      "source": [
        "#Extending the built-in class"
      ],
      "metadata": {
        "id": "8cB2RRe1DuYl"
      },
      "execution_count": 72,
      "outputs": []
    },
    {
      "cell_type": "code",
      "source": [
        "class ContactList(list):\n",
        "    def search(self,name):\n",
        "        \"\"\"Return all contacts that contain the search value in their name\"\"\"\n",
        "        matching_contacts = []\n",
        "        for contact in self:\n",
        "            if name in contact.name:\n",
        "                matching_contacts.append(contact)\n",
        "        return matching_contacts"
      ],
      "metadata": {
        "id": "PYNoy2jGE4gV"
      },
      "execution_count": 73,
      "outputs": []
    },
    {
      "cell_type": "code",
      "source": [
        "class Contact:\n",
        "    all_contacts = ContactList()    # shared list of all contacts\n",
        "    def __init__(self, name, email):\n",
        "        self.name = name\n",
        "        self.email = email\n",
        "        Contact.all_contacts.append(self)  # Add self to the shared contact list"
      ],
      "metadata": {
        "id": "CKZXOPnZE8Ud"
      },
      "execution_count": 74,
      "outputs": []
    },
    {
      "cell_type": "code",
      "source": [
        " c1 = Contact(\"John A\",\"johna@example.net\")\n",
        " c2 = Contact(\"John B\",\"johnb@example.net\")\n",
        " c3 = Contact(\"Jenna C\",\"jennac@example.net\")\n",
        " [c.name for c in Contact.all_contacts.search('John')]"
      ],
      "metadata": {
        "colab": {
          "base_uri": "https://localhost:8080/"
        },
        "id": "u9NB6H1vFEyK",
        "outputId": "b343b89c-d87e-407f-ee25-5f5c34810706"
      },
      "execution_count": 75,
      "outputs": [
        {
          "output_type": "execute_result",
          "data": {
            "text/plain": [
              "['John A', 'John B']"
            ]
          },
          "metadata": {},
          "execution_count": 75
        }
      ]
    },
    {
      "cell_type": "code",
      "source": [],
      "metadata": {
        "id": "nPFKPFZNFHnW"
      },
      "execution_count": null,
      "outputs": []
    }
  ]
}