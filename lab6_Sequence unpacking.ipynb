{
  "nbformat": 4,
  "nbformat_minor": 0,
  "metadata": {
    "colab": {
      "provenance": [],
      "authorship_tag": "ABX9TyOdmrR/HSrxh5X9wxR+xjDi",
      "include_colab_link": true
    },
    "kernelspec": {
      "name": "python3",
      "display_name": "Python 3"
    },
    "language_info": {
      "name": "python"
    }
  },
  "cells": [
    {
      "cell_type": "markdown",
      "metadata": {
        "id": "view-in-github",
        "colab_type": "text"
      },
      "source": [
        "<a href=\"https://colab.research.google.com/github/DheviSri/python-lab/blob/main/lab6_Sequence%20unpacking.ipynb\" target=\"_parent\"><img src=\"https://colab.research.google.com/assets/colab-badge.svg\" alt=\"Open In Colab\"/></a>"
      ]
    },
    {
      "cell_type": "code",
      "execution_count": 1,
      "metadata": {
        "id": "QVLZO1kcD8_T"
      },
      "outputs": [],
      "source": [
        "ODDS = [1,3,5,7]  # Original list\n",
        "a,b,c,d = ODDS # Unpacking the List"
      ]
    },
    {
      "cell_type": "code",
      "source": [
        "print(a)    # printing the unpacked list elements\n",
        "print(b)\n",
        "print(c)\n",
        "print(d)"
      ],
      "metadata": {
        "colab": {
          "base_uri": "https://localhost:8080/"
        },
        "id": "RX2h3_jdEUDd",
        "outputId": "a641b509-fd02-4711-f504-96f4ce874831"
      },
      "execution_count": 2,
      "outputs": [
        {
          "output_type": "stream",
          "name": "stdout",
          "text": [
            "1\n",
            "3\n",
            "5\n",
            "7\n"
          ]
        }
      ]
    },
    {
      "cell_type": "code",
      "source": [
        "a,b,*c = ODDS #Unpacking the list (Remaining elements will get stored in the variable c)"
      ],
      "metadata": {
        "id": "rB7DOc4_EXjY"
      },
      "execution_count": 3,
      "outputs": []
    },
    {
      "cell_type": "code",
      "source": [
        "print(a)    # printing the unpacked list elements\n",
        "print(b)\n",
        "print(c)"
      ],
      "metadata": {
        "colab": {
          "base_uri": "https://localhost:8080/"
        },
        "id": "aoMbiTsUEapo",
        "outputId": "051fd6da-870f-4c3c-e106-a11689c41dac"
      },
      "execution_count": 4,
      "outputs": [
        {
          "output_type": "stream",
          "name": "stdout",
          "text": [
            "1\n",
            "3\n",
            "[5, 7]\n"
          ]
        }
      ]
    },
    {
      "cell_type": "code",
      "source": [
        "a,*b,c = ODDS # Unpacking the List"
      ],
      "metadata": {
        "id": "kr35qoKgEdst"
      },
      "execution_count": 5,
      "outputs": []
    },
    {
      "cell_type": "code",
      "source": [
        "print(a)    # printing the unpacked list elements\n",
        "print(b)\n",
        "print(c)"
      ],
      "metadata": {
        "colab": {
          "base_uri": "https://localhost:8080/"
        },
        "id": "NaYR0hPqEgwQ",
        "outputId": "091f0160-b315-4250-e387-d0d7abd3aa8b"
      },
      "execution_count": 6,
      "outputs": [
        {
          "output_type": "stream",
          "name": "stdout",
          "text": [
            "1\n",
            "[3, 5]\n",
            "7\n"
          ]
        }
      ]
    },
    {
      "cell_type": "code",
      "source": [
        "def a(x,y,z):       # Unpacking the list\n",
        "    return (x+y+z)\n",
        "print(a(*ODDS))     # ERROR: It requires exactly 4 elements to be unpacked"
      ],
      "metadata": {
        "colab": {
          "base_uri": "https://localhost:8080/",
          "height": 176
        },
        "id": "qlTtQ6H7Ejl0",
        "outputId": "6c5ff788-3c89-40ed-8428-5521d8f42d0b"
      },
      "execution_count": 7,
      "outputs": [
        {
          "output_type": "error",
          "ename": "TypeError",
          "evalue": "a() takes 3 positional arguments but 4 were given",
          "traceback": [
            "\u001b[0;31m---------------------------------------------------------------------------\u001b[0m",
            "\u001b[0;31mTypeError\u001b[0m                                 Traceback (most recent call last)",
            "\u001b[0;32m/tmp/ipython-input-3353483840.py\u001b[0m in \u001b[0;36m<cell line: 0>\u001b[0;34m()\u001b[0m\n\u001b[1;32m      1\u001b[0m \u001b[0;32mdef\u001b[0m \u001b[0ma\u001b[0m\u001b[0;34m(\u001b[0m\u001b[0mx\u001b[0m\u001b[0;34m,\u001b[0m\u001b[0my\u001b[0m\u001b[0;34m,\u001b[0m\u001b[0mz\u001b[0m\u001b[0;34m)\u001b[0m\u001b[0;34m:\u001b[0m       \u001b[0;31m# Unpacking the list\u001b[0m\u001b[0;34m\u001b[0m\u001b[0;34m\u001b[0m\u001b[0m\n\u001b[1;32m      2\u001b[0m     \u001b[0;32mreturn\u001b[0m \u001b[0;34m(\u001b[0m\u001b[0mx\u001b[0m\u001b[0;34m+\u001b[0m\u001b[0my\u001b[0m\u001b[0;34m+\u001b[0m\u001b[0mz\u001b[0m\u001b[0;34m)\u001b[0m\u001b[0;34m\u001b[0m\u001b[0;34m\u001b[0m\u001b[0m\n\u001b[0;32m----> 3\u001b[0;31m \u001b[0mprint\u001b[0m\u001b[0;34m(\u001b[0m\u001b[0ma\u001b[0m\u001b[0;34m(\u001b[0m\u001b[0;34m*\u001b[0m\u001b[0mODDS\u001b[0m\u001b[0;34m)\u001b[0m\u001b[0;34m)\u001b[0m     \u001b[0;31m# ERROR: It requires exactly 4 elements to be unpacked\u001b[0m\u001b[0;34m\u001b[0m\u001b[0;34m\u001b[0m\u001b[0m\n\u001b[0m",
            "\u001b[0;31mTypeError\u001b[0m: a() takes 3 positional arguments but 4 were given"
          ]
        }
      ]
    },
    {
      "cell_type": "code",
      "source": [
        "def a(x,y,z,p):       # Unpacking the list\n",
        "    return (x+y+z+p)\n",
        "print(a(*ODDS))"
      ],
      "metadata": {
        "colab": {
          "base_uri": "https://localhost:8080/"
        },
        "id": "JddARwUiEmei",
        "outputId": "ff1b4bc6-3216-4d7e-ebc8-a96bc73a99a4"
      },
      "execution_count": 8,
      "outputs": [
        {
          "output_type": "stream",
          "name": "stdout",
          "text": [
            "16\n"
          ]
        }
      ]
    },
    {
      "cell_type": "code",
      "source": [
        "def say_hi(*names):    # Unpacking the collection of string\n",
        "    for n in names:\n",
        "        print(f\"Hello, {n}\")\n",
        "say_hi(\"sri\",\"Kaushik\",\"Hari\",\"Dharshini\")"
      ],
      "metadata": {
        "colab": {
          "base_uri": "https://localhost:8080/"
        },
        "id": "ZUJbW7KuEs8P",
        "outputId": "766db6fe-9424-4392-c79e-b03b94fa4ed5"
      },
      "execution_count": 9,
      "outputs": [
        {
          "output_type": "stream",
          "name": "stdout",
          "text": [
            "Hello, sri\n",
            "Hello, Kaushik\n",
            "Hello, Hari\n",
            "Hello, Dharshini\n"
          ]
        }
      ]
    },
    {
      "cell_type": "code",
      "source": [
        "# Unpacking the dictionary\n",
        "def show_info(**info):\n",
        "    for k,v in info.items():\n",
        "        print(f\"{k} : {v}\")\n",
        "\n",
        "data = {\"Code\":\"Python\",\n",
        "        \"School\":\"SCOPE\",\n",
        "        \"Course\":\"CSI4007\"\n",
        "       }\n",
        "show_info(**data)"
      ],
      "metadata": {
        "colab": {
          "base_uri": "https://localhost:8080/"
        },
        "id": "AyzQOUTFExvY",
        "outputId": "f47c1fe1-56b3-4fda-b9d1-14695bac4584"
      },
      "execution_count": 10,
      "outputs": [
        {
          "output_type": "stream",
          "name": "stdout",
          "text": [
            "Code : Python\n",
            "School : SCOPE\n",
            "Course : CSI4007\n"
          ]
        }
      ]
    },
    {
      "cell_type": "code",
      "source": [
        "dict1 = dict()   # Empty dict"
      ],
      "metadata": {
        "id": "tEyQPC1BFDy5"
      },
      "execution_count": 11,
      "outputs": []
    },
    {
      "cell_type": "code",
      "source": [
        "dict1[\"Name\"] = \"DheviSri\"  # Inserting keys and values to dict\n",
        "dict1[\"School\"] = \"SCOPE\""
      ],
      "metadata": {
        "id": "F6Gc5Uy5FGlb"
      },
      "execution_count": 14,
      "outputs": []
    },
    {
      "cell_type": "code",
      "source": [
        "print(dict1) # Display dict"
      ],
      "metadata": {
        "colab": {
          "base_uri": "https://localhost:8080/"
        },
        "id": "ShFhtK0TFJP-",
        "outputId": "8c81a9b0-40e2-4d6f-ea82-be07beb655b5"
      },
      "execution_count": 15,
      "outputs": [
        {
          "output_type": "stream",
          "name": "stdout",
          "text": [
            "{'Name': 'DheviSri', 'School': 'SCOPE'}\n"
          ]
        }
      ]
    },
    {
      "cell_type": "code",
      "source": [
        "dict2 = {}     # Empty dict"
      ],
      "metadata": {
        "id": "EdV_Vnw4FMLb"
      },
      "execution_count": 16,
      "outputs": []
    },
    {
      "cell_type": "code",
      "source": [
        "dict2[\"Name\"] = \"Kamesh\"  # Inserting keys and values to dict\n",
        "dict2[\"School\"] = \"SCORE\""
      ],
      "metadata": {
        "id": "XoaUSmNcFTir"
      },
      "execution_count": 17,
      "outputs": []
    },
    {
      "cell_type": "code",
      "source": [
        "print(dict2) # Display dict"
      ],
      "metadata": {
        "colab": {
          "base_uri": "https://localhost:8080/"
        },
        "id": "xNDVK6wHFY2W",
        "outputId": "01f205a5-a9ae-42dc-dbd3-6347c5f2d60e"
      },
      "execution_count": 18,
      "outputs": [
        {
          "output_type": "stream",
          "name": "stdout",
          "text": [
            "{'Name': 'Kamesh', 'School': 'SCORE'}\n"
          ]
        }
      ]
    }
  ]
}