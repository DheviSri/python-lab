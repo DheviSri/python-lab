{
 "cells": [
  {
   "cell_type": "code",
   "execution_count": 24,
   "id": "2d1a4754-23c3-49fc-b077-d8d0b67d7807",
   "metadata": {},
   "outputs": [
    {
     "data": {
      "text/plain": [
       "<function __main__.<lambda>(x, y)>"
      ]
     },
     "execution_count": 24,
     "metadata": {},
     "output_type": "execute_result"
    }
   ],
   "source": [
    "def double(x):\n",
    "    return x*2\n",
    "def add(x,y):\n",
    "    return x+y  \n",
    "def mx(x,y):\n",
    "    if x>y:\n",
    "        return x\n",
    "    else:\n",
    "        return y\n",
    "lambda x:x*2\n",
    "lambda x,y:x+y\n",
    "lambda x,y:x if x>y else y"
   ]
  },
  {
   "cell_type": "code",
   "execution_count": 14,
   "id": "3762ae4d-cf7e-4be4-b94a-f7c5b0a962d5",
   "metadata": {},
   "outputs": [
    {
     "ename": "TypeError",
     "evalue": "'int' object is not iterable",
     "output_type": "error",
     "traceback": [
      "\u001b[0;31m---------------------------------------------------------------------------\u001b[0m",
      "\u001b[0;31mTypeError\u001b[0m                                 Traceback (most recent call last)",
      "Cell \u001b[0;32mIn[14], line 2\u001b[0m\n\u001b[1;32m      1\u001b[0m n\u001b[38;5;241m=\u001b[39m\u001b[38;5;241m45678\u001b[39m\n\u001b[0;32m----> 2\u001b[0m \u001b[38;5;28;01mfor\u001b[39;00m i \u001b[38;5;129;01min\u001b[39;00m n:\n\u001b[1;32m      3\u001b[0m     \u001b[38;5;28mprint\u001b[39m(i)\n",
      "\u001b[0;31mTypeError\u001b[0m: 'int' object is not iterable"
     ]
    }
   ],
   "source": [
    "n=45678\n",
    "for i in n:\n",
    "    print(i)"
   ]
  },
  {
   "cell_type": "code",
   "execution_count": 16,
   "id": "e5a3faba-10b7-41d8-974f-b0c0a578feaf",
   "metadata": {},
   "outputs": [
    {
     "name": "stdout",
     "output_type": "stream",
     "text": [
      "[4, 5, 6, 7, 8]\n",
      "4\n",
      "5\n",
      "6\n",
      "7\n",
      "8\n"
     ]
    }
   ],
   "source": [
    "c=45678\n",
    "digits=[int(d) for d in str(c)]\n",
    "print (digits)\n",
    "for digit in digits:\n",
    "    print(digit)"
   ]
  },
  {
   "cell_type": "code",
   "execution_count": 17,
   "id": "692a1e39-746f-448f-aaaa-6983f05a9d51",
   "metadata": {},
   "outputs": [
    {
     "name": "stdout",
     "output_type": "stream",
     "text": [
      "['__add__', '__class__', '__class_getitem__', '__contains__', '__delattr__', '__delitem__', '__dir__', '__doc__', '__eq__', '__format__', '__ge__', '__getattribute__', '__getitem__', '__getstate__', '__gt__', '__hash__', '__iadd__', '__imul__', '__init__', '__init_subclass__', '__iter__', '__le__', '__len__', '__lt__', '__mul__', '__ne__', '__new__', '__reduce__', '__reduce_ex__', '__repr__', '__reversed__', '__rmul__', '__setattr__', '__setitem__', '__sizeof__', '__str__', '__subclasshook__', 'append', 'clear', 'copy', 'count', 'extend', 'index', 'insert', 'pop', 'remove', 'reverse', 'sort']\n"
     ]
    }
   ],
   "source": [
    "a=[1,2,3]\n",
    "print(dir(a))"
   ]
  },
  {
   "cell_type": "code",
   "execution_count": 12,
   "id": "67730735-d869-4f04-8fe1-d984bdac23f8",
   "metadata": {},
   "outputs": [
    {
     "name": "stdout",
     "output_type": "stream",
     "text": [
      "<list_iterator object at 0x7981583cc940>\n"
     ]
    }
   ],
   "source": [
    "names=['Ema','Tom','Hinton']\n",
    "looper=names.__iter__()\n",
    "print(looper)"
   ]
  },
  {
   "cell_type": "code",
   "execution_count": 13,
   "id": "3fcd0a36-4dce-407d-b0d8-e28c08ef9772",
   "metadata": {},
   "outputs": [
    {
     "name": "stdout",
     "output_type": "stream",
     "text": [
      "Ema\n"
     ]
    }
   ],
   "source": [
    "looper=iter(names)\n",
    "print(next(looper))"
   ]
  },
  {
   "cell_type": "code",
   "execution_count": 14,
   "id": "38b182c1-9a51-45ef-8208-406479de4429",
   "metadata": {},
   "outputs": [
    {
     "name": "stdout",
     "output_type": "stream",
     "text": [
      "Tom\n"
     ]
    }
   ],
   "source": [
    "print(next(looper))"
   ]
  },
  {
   "cell_type": "code",
   "execution_count": 15,
   "id": "9ca9c0d0-08e9-42fc-b528-8bc83852a292",
   "metadata": {},
   "outputs": [
    {
     "name": "stdout",
     "output_type": "stream",
     "text": [
      "Hinton\n"
     ]
    }
   ],
   "source": [
    "print(next(looper))"
   ]
  },
  {
   "cell_type": "code",
   "execution_count": 16,
   "id": "15439824-1220-4e3d-849b-5293ae2a609a",
   "metadata": {},
   "outputs": [
    {
     "ename": "StopIteration",
     "evalue": "",
     "output_type": "error",
     "traceback": [
      "\u001b[0;31m---------------------------------------------------------------------------\u001b[0m",
      "\u001b[0;31mStopIteration\u001b[0m                             Traceback (most recent call last)",
      "Cell \u001b[0;32mIn[16], line 1\u001b[0m\n\u001b[0;32m----> 1\u001b[0m \u001b[38;5;28mprint\u001b[39m(\u001b[38;5;28mnext\u001b[39m(looper))\n",
      "\u001b[0;31mStopIteration\u001b[0m: "
     ]
    }
   ],
   "source": [
    "print(next(looper))"
   ]
  },
  {
   "cell_type": "code",
   "execution_count": 23,
   "id": "4823eab0-ac93-4772-8fa2-760ea122d37c",
   "metadata": {},
   "outputs": [
    {
     "name": "stdout",
     "output_type": "stream",
     "text": [
      "Ema\n",
      "Tom\n",
      "Hinton\n"
     ]
    }
   ],
   "source": [
    "looper=iter(names)\n",
    "while True:\n",
    "    try:\n",
    "        name=next(looper)\n",
    "        print(name)\n",
    "    except StopIteration:\n",
    "        break"
   ]
  },
  {
   "cell_type": "code",
   "execution_count": 28,
   "id": "7ee39ede-12f9-4c39-96c2-b4490cf3bf13",
   "metadata": {},
   "outputs": [
    {
     "name": "stdout",
     "output_type": "stream",
     "text": [
      "<map object at 0x7981583c8820>\n"
     ]
    }
   ],
   "source": [
    "def square (x):\n",
    "    return x*x\n",
    "numbers=[1,2,3,4,5]\n",
    "print(map(square,numbers))"
   ]
  },
  {
   "cell_type": "code",
   "execution_count": 29,
   "id": "dc6c01c3-b5ad-4f6f-89a7-fc9872ec004c",
   "metadata": {},
   "outputs": [
    {
     "name": "stdout",
     "output_type": "stream",
     "text": [
      "[1, 4, 9, 16, 25]\n"
     ]
    }
   ],
   "source": [
    "def square (x):\n",
    "    return x*x\n",
    "numbers=[1,2,3,4,5]\n",
    "print(list(map(square,numbers)))"
   ]
  },
  {
   "cell_type": "code",
   "execution_count": 4,
   "id": "dcc0a960-7fbd-4bf3-b267-f964d1c5b7d0",
   "metadata": {},
   "outputs": [
    {
     "data": {
      "text/plain": [
       "<function __main__.<lambda>(x)>"
      ]
     },
     "execution_count": 4,
     "metadata": {},
     "output_type": "execute_result"
    }
   ],
   "source": [
    "def double(x):\n",
    "    return x*2\n",
    "lambda x:x*2"
   ]
  },
  {
   "cell_type": "code",
   "execution_count": 11,
   "id": "2eab2b61-709e-46e5-a108-1de14e5cc279",
   "metadata": {},
   "outputs": [
    {
     "name": "stdout",
     "output_type": "stream",
     "text": [
      "[1, 4, 9, 16, 25]\n"
     ]
    }
   ],
   "source": [
    "def square(x):\n",
    "    return x*x\n",
    "numbers=[1,2,3,4,5]\n",
    "print(list(map(square,numbers)))"
   ]
  },
  {
   "cell_type": "code",
   "execution_count": 19,
   "id": "7e045925-a8c1-4bf9-a110-fdf78f834dab",
   "metadata": {},
   "outputs": [
    {
     "name": "stdout",
     "output_type": "stream",
     "text": [
      "[1, 4, 9, 16, 25]\n"
     ]
    }
   ],
   "source": [
    "num=[1,2,3,4,5]\n",
    "print(list(map(lambda x:x*x,num)))"
   ]
  },
  {
   "cell_type": "code",
   "execution_count": 17,
   "id": "ee1d1012-c77e-4224-9553-573cc8a5a468",
   "metadata": {},
   "outputs": [
    {
     "name": "stdout",
     "output_type": "stream",
     "text": [
      "[4, 5]\n"
     ]
    }
   ],
   "source": [
    "print(list(filter(lambda x:x>3,num)))"
   ]
  },
  {
   "cell_type": "code",
   "execution_count": 22,
   "id": "b543d4f2-b3a8-436c-9086-cbb3a4d9ae15",
   "metadata": {},
   "outputs": [
    {
     "name": "stdout",
     "output_type": "stream",
     "text": [
      "hello world!\n"
     ]
    }
   ],
   "source": [
    "def string_to_lower(input_string):\n",
    "    return input_string.lower()\n",
    "\n",
    "my_string = \"Hello World!\"\n",
    "lowercase_string = string_to_lower(my_string)\n",
    "print(lowercase_string) "
   ]
  },
  {
   "cell_type": "code",
   "execution_count": 28,
   "id": "023fcc4d-9a12-4006-89a5-ebcc26690a3e",
   "metadata": {},
   "outputs": [
    {
     "name": "stdout",
     "output_type": "stream",
     "text": [
      "alice\n",
      "bob\n",
      "charlie\n"
     ]
    }
   ],
   "source": [
    "def list(names):\n",
    "    return names.lower()\n",
    "names=['Alice','Bob','Charlie']\n",
    "for i in names:\n",
    "    lowercase_string=list(i)\n",
    "    print(lowercase_string)\n",
    "    \n",
    "        \n",
    "        "
   ]
  },
  {
   "cell_type": "code",
   "execution_count": 24,
   "id": "32dabcee-dfa3-455f-8e0f-389d6bf3c453",
   "metadata": {},
   "outputs": [
    {
     "name": "stdout",
     "output_type": "stream",
     "text": [
      "15\n"
     ]
    }
   ],
   "source": [
    "from functools import reduce\n",
    "print(reduce(lambda x,y:x+y,numbers))"
   ]
  },
  {
   "cell_type": "code",
   "execution_count": null,
   "id": "868c903f-539d-4539-b30d-c7bd70dfee84",
   "metadata": {},
   "outputs": [],
   "source": []
  }
 ],
 "metadata": {
  "kernelspec": {
   "display_name": "Python 3 (ipykernel)",
   "language": "python",
   "name": "python3"
  },
  "language_info": {
   "codemirror_mode": {
    "name": "ipython",
    "version": 3
   },
   "file_extension": ".py",
   "mimetype": "text/x-python",
   "name": "python",
   "nbconvert_exporter": "python",
   "pygments_lexer": "ipython3",
   "version": "3.12.4"
  }
 },
 "nbformat": 4,
 "nbformat_minor": 5
}
