{
  "nbformat": 4,
  "nbformat_minor": 0,
  "metadata": {
    "colab": {
      "provenance": [],
      "authorship_tag": "ABX9TyPHz+iy1e8Fj+YCJU1XbhJS",
      "include_colab_link": true
    },
    "kernelspec": {
      "name": "python3",
      "display_name": "Python 3"
    },
    "language_info": {
      "name": "python"
    }
  },
  "cells": [
    {
      "cell_type": "markdown",
      "metadata": {
        "id": "view-in-github",
        "colab_type": "text"
      },
      "source": [
        "<a href=\"https://colab.research.google.com/github/DheviSri/python-lab/blob/main/lab_3.ipynb\" target=\"_parent\"><img src=\"https://colab.research.google.com/assets/colab-badge.svg\" alt=\"Open In Colab\"/></a>"
      ]
    },
    {
      "cell_type": "code",
      "execution_count": 1,
      "metadata": {
        "colab": {
          "base_uri": "https://localhost:8080/"
        },
        "id": "hRvi5kra9vtp",
        "outputId": "32e4dbb1-bb74-4a79-e895-737421465a30"
      },
      "outputs": [
        {
          "output_type": "stream",
          "name": "stdout",
          "text": [
            "Enter the number of favourite places: 3\n",
            "Enter your favourite place 1: vayanadu\n",
            "Enter your favourite place 2: goa\n",
            "Enter your favourite place 3: maldives\n",
            "['vayanadu', 'goa', 'maldives']\n"
          ]
        }
      ],
      "source": [
        "places = []\n",
        "num = int(input(\"Enter the number of favourite places: \"))\n",
        "\n",
        "for i in range(num):\n",
        "    place = input(f'Enter your favourite place {i+1}: ')\n",
        "    places.append(place)\n",
        "\n",
        "print(places)"
      ]
    },
    {
      "cell_type": "code",
      "source": [
        "# Displaying Favourite places\n",
        "print(\"Your Favourite Places:\")\n",
        "for i in range(len(places)):\n",
        "    print(places[i])"
      ],
      "metadata": {
        "colab": {
          "base_uri": "https://localhost:8080/"
        },
        "id": "RYNym6fO-Qcz",
        "outputId": "dfcd580b-ab1a-4150-b1be-757b1c3683ea"
      },
      "execution_count": 2,
      "outputs": [
        {
          "output_type": "stream",
          "name": "stdout",
          "text": [
            "Your Favourite Places:\n",
            "vayanadu\n",
            "goa\n",
            "maldives\n"
          ]
        }
      ]
    },
    {
      "cell_type": "code",
      "source": [
        "# Adding new places\n",
        "place = input(\"Enter new place: \")\n",
        "places.append(place)"
      ],
      "metadata": {
        "colab": {
          "base_uri": "https://localhost:8080/"
        },
        "id": "ZBhjLE0H-TSh",
        "outputId": "42a1e539-e684-4db4-9288-996d431ef238"
      },
      "execution_count": 3,
      "outputs": [
        {
          "name": "stdout",
          "output_type": "stream",
          "text": [
            "Enter new place: himalaya\n"
          ]
        }
      ]
    },
    {
      "cell_type": "code",
      "source": [
        "# Insert your favourite place at particular position\n",
        "place = input(\"Enter your most favourite place: \")\n",
        "places.insert(0,place)"
      ],
      "metadata": {
        "colab": {
          "base_uri": "https://localhost:8080/"
        },
        "id": "pP2v8PAc-dY-",
        "outputId": "1ded394f-1175-4658-b982-990d15418c37"
      },
      "execution_count": 4,
      "outputs": [
        {
          "name": "stdout",
          "output_type": "stream",
          "text": [
            "Enter your most favourite place: banglore\n"
          ]
        }
      ]
    },
    {
      "cell_type": "code",
      "source": [
        "# Displaying Favourite places\n",
        "print(\"Your Favourite Places:\")\n",
        "for i in range(len(places)):\n",
        "    print(places[i])"
      ],
      "metadata": {
        "colab": {
          "base_uri": "https://localhost:8080/"
        },
        "id": "4RkbRJbS-7nF",
        "outputId": "f4e403eb-5875-429b-8c82-8aed3dea98df"
      },
      "execution_count": 5,
      "outputs": [
        {
          "output_type": "stream",
          "name": "stdout",
          "text": [
            "Your Favourite Places:\n",
            "banglore\n",
            "vayanadu\n",
            "goa\n",
            "maldives\n",
            "himalaya\n"
          ]
        }
      ]
    },
    {
      "cell_type": "code",
      "source": [
        "# Remove your recently visited place\n",
        "places.remove(\"vayanadu\")"
      ],
      "metadata": {
        "id": "ePp1wZux-_TJ"
      },
      "execution_count": 6,
      "outputs": []
    },
    {
      "cell_type": "code",
      "source": [
        "# Add multiple favourite places at a time\n",
        "places.extend([\"Karanji Park\",\"Sandal Market\"])"
      ],
      "metadata": {
        "id": "0YNBJruu_GPh"
      },
      "execution_count": 7,
      "outputs": []
    },
    {
      "cell_type": "code",
      "source": [
        "# Displaying Favourite places\n",
        "print(\"Your Favourite Places:\")\n",
        "for i in range(len(places)):\n",
        "    print(places[i])"
      ],
      "metadata": {
        "colab": {
          "base_uri": "https://localhost:8080/"
        },
        "id": "MTeSHEqG_I3h",
        "outputId": "af49da83-dbaa-4b27-cb83-67c00d73af2b"
      },
      "execution_count": 8,
      "outputs": [
        {
          "output_type": "stream",
          "name": "stdout",
          "text": [
            "Your Favourite Places:\n",
            "banglore\n",
            "goa\n",
            "maldives\n",
            "himalaya\n",
            "Karanji Park\n",
            "Sandal Market\n"
          ]
        }
      ]
    },
    {
      "cell_type": "code",
      "source": [
        "# Delete Recently Visited place\n",
        "del places[4]"
      ],
      "metadata": {
        "id": "6UvQjiSR_OQh"
      },
      "execution_count": 9,
      "outputs": []
    },
    {
      "cell_type": "code",
      "source": [
        "# Remove your last favourite place\n",
        "places.pop()"
      ],
      "metadata": {
        "colab": {
          "base_uri": "https://localhost:8080/",
          "height": 35
        },
        "id": "FnD38YFA_R2j",
        "outputId": "4e3efe33-23bd-4a17-bfa9-7cc034002c5b"
      },
      "execution_count": 10,
      "outputs": [
        {
          "output_type": "execute_result",
          "data": {
            "text/plain": [
              "'Sandal Market'"
            ],
            "application/vnd.google.colaboratory.intrinsic+json": {
              "type": "string"
            }
          },
          "metadata": {},
          "execution_count": 10
        }
      ]
    },
    {
      "cell_type": "code",
      "source": [
        "# Displaying Favourite places\n",
        "print(\"Your Favourite Places:\")\n",
        "for i in range(len(places)):\n",
        "    print(places[i])"
      ],
      "metadata": {
        "colab": {
          "base_uri": "https://localhost:8080/"
        },
        "id": "tccF58hW_VpM",
        "outputId": "2b1d8157-6c71-4c65-cbb9-573f3ea7e805"
      },
      "execution_count": 11,
      "outputs": [
        {
          "output_type": "stream",
          "name": "stdout",
          "text": [
            "Your Favourite Places:\n",
            "banglore\n",
            "goa\n",
            "maldives\n",
            "himalaya\n"
          ]
        }
      ]
    },
    {
      "cell_type": "code",
      "source": [
        "# Reversing List\n",
        "places.reverse()\n",
        "print(places)\n"
      ],
      "metadata": {
        "colab": {
          "base_uri": "https://localhost:8080/"
        },
        "id": "vL9hLi3q_aVz",
        "outputId": "e941dc49-8ca3-4db8-dfea-c391f842e913"
      },
      "execution_count": 12,
      "outputs": [
        {
          "output_type": "stream",
          "name": "stdout",
          "text": [
            "['himalaya', 'maldives', 'goa', 'banglore']\n"
          ]
        }
      ]
    },
    {
      "cell_type": "code",
      "source": [
        "# Display list in Sorted order\n",
        "places.sort()\n",
        "print(places)"
      ],
      "metadata": {
        "colab": {
          "base_uri": "https://localhost:8080/"
        },
        "id": "nsn2tQHJ_dcm",
        "outputId": "2e3d54b2-9feb-40cc-ec8d-573c3af74c05"
      },
      "execution_count": 13,
      "outputs": [
        {
          "output_type": "stream",
          "name": "stdout",
          "text": [
            "['banglore', 'goa', 'himalaya', 'maldives']\n"
          ]
        }
      ]
    },
    {
      "cell_type": "code",
      "source": [
        "# Get the index of your favourite place\n",
        "places.index(\"goa\")"
      ],
      "metadata": {
        "colab": {
          "base_uri": "https://localhost:8080/"
        },
        "id": "EqleuiDS_gdJ",
        "outputId": "ad61c81b-7bd2-4a0a-9e00-fe07b811aec9"
      },
      "execution_count": 15,
      "outputs": [
        {
          "output_type": "execute_result",
          "data": {
            "text/plain": [
              "1"
            ]
          },
          "metadata": {},
          "execution_count": 15
        }
      ]
    },
    {
      "cell_type": "code",
      "source": [
        "# Remove your last favourite place\n",
        "places.pop(0)"
      ],
      "metadata": {
        "colab": {
          "base_uri": "https://localhost:8080/",
          "height": 35
        },
        "id": "bCtl1Qg-_mbt",
        "outputId": "11d311eb-32d3-4d9f-83a4-0f50020c89f3"
      },
      "execution_count": 16,
      "outputs": [
        {
          "output_type": "execute_result",
          "data": {
            "text/plain": [
              "'banglore'"
            ],
            "application/vnd.google.colaboratory.intrinsic+json": {
              "type": "string"
            }
          },
          "metadata": {},
          "execution_count": 16
        }
      ]
    },
    {
      "cell_type": "code",
      "source": [
        "# Displaying Favourite places\n",
        "print(\"Your Favourite Places:\")\n",
        "for i in range(len(places)):\n",
        "    print(places[i])"
      ],
      "metadata": {
        "colab": {
          "base_uri": "https://localhost:8080/"
        },
        "id": "qfhQqM-Y_pgE",
        "outputId": "b5f2ad38-54ae-4bf3-c1c0-00f7521b331c"
      },
      "execution_count": 17,
      "outputs": [
        {
          "output_type": "stream",
          "name": "stdout",
          "text": [
            "Your Favourite Places:\n",
            "goa\n",
            "himalaya\n",
            "maldives\n"
          ]
        }
      ]
    },
    {
      "cell_type": "code",
      "source": [
        "# Clear your favourite places\n",
        "places.clear()"
      ],
      "metadata": {
        "id": "mIm5ExKr_sb-"
      },
      "execution_count": 18,
      "outputs": []
    },
    {
      "cell_type": "code",
      "source": [
        "print(places)"
      ],
      "metadata": {
        "colab": {
          "base_uri": "https://localhost:8080/"
        },
        "id": "oiSFhuFu_vNw",
        "outputId": "5b5bf25b-7fa1-4df6-85c9-bdb0b894b20e"
      },
      "execution_count": 19,
      "outputs": [
        {
          "output_type": "stream",
          "name": "stdout",
          "text": [
            "[]\n"
          ]
        }
      ]
    },
    {
      "cell_type": "code",
      "source": [
        "# User data in dictionary form\n",
        "data = {\n",
        "    'UserA': ['Mysuru Palace', 'Sand Museum', 'Railway Museum', 'Devaraja Market', 'Karanji Lake'],\n",
        "    'UserB': ['Mysuru Palace', 'Sri Chamundeshwari Temple', 'Karanji Lake', 'Mysuru Zoo'],\n",
        "    'UserC': ['Sand Museum', 'Karanji Park', 'Railway Museum', 'Brindavan Gardens'],\n",
        "    'UserD': ['Mysuru Palace', 'Sand Museum', 'Sandal Market', 'Devaraja Market'],\n",
        "}"
      ],
      "metadata": {
        "id": "98JsteIK_yeq"
      },
      "execution_count": 20,
      "outputs": []
    },
    {
      "cell_type": "code",
      "source": [
        "# Get current user input\n",
        "\n",
        "current_user = 'UserA'\n",
        "user_places = data[current_user]"
      ],
      "metadata": {
        "id": "h0Ahu0uD_1Pw"
      },
      "execution_count": 21,
      "outputs": []
    },
    {
      "cell_type": "code",
      "source": [
        "# Find similar users – Based on common places\n",
        "\n",
        "similar_users = {}\n",
        "for user, places in data.items():\n",
        "    if user != current_user:\n",
        "        common = set(places) & set(user_places)\n",
        "        similarity_score = len(common)\n",
        "        if similarity_score > 0:\n",
        "            similar_users[user] = similarity_score"
      ],
      "metadata": {
        "id": "Zy63aXLx_5Zb"
      },
      "execution_count": 22,
      "outputs": []
    },
    {
      "cell_type": "code",
      "source": [
        "# Get recommendations – Unique places others liked\n",
        "\n",
        "from collections import Counter\n",
        "\n",
        "recommendations = []\n",
        "for user in similar_users:\n",
        "    for place in data[user]:\n",
        "        if place not in user_places:\n",
        "            recommendations.append(place)\n",
        "\n",
        "recommend_counts = Counter(recommendations)\n",
        "sorted_recommendations = [place for place, count in recommend_counts.most_common()]"
      ],
      "metadata": {
        "id": "lEHa9LQc_8RN"
      },
      "execution_count": 23,
      "outputs": []
    },
    {
      "cell_type": "code",
      "source": [
        "# Display recommendations\n",
        "\n",
        "print(\"📌 Recommended Places Based on Similar Users:\")\n",
        "for place in sorted_recommendations:\n",
        "    print(\"-\", place)"
      ],
      "metadata": {
        "colab": {
          "base_uri": "https://localhost:8080/"
        },
        "id": "eq3rwpgG__SB",
        "outputId": "fb4a7caa-905d-478e-f2a9-d554789fa24d"
      },
      "execution_count": 24,
      "outputs": [
        {
          "output_type": "stream",
          "name": "stdout",
          "text": [
            "📌 Recommended Places Based on Similar Users:\n",
            "- Sri Chamundeshwari Temple\n",
            "- Mysuru Zoo\n",
            "- Karanji Park\n",
            "- Brindavan Gardens\n",
            "- Sandal Market\n"
          ]
        }
      ]
    }
  ]
}