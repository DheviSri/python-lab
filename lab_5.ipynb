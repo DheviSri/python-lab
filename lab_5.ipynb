{
  "nbformat": 4,
  "nbformat_minor": 0,
  "metadata": {
    "colab": {
      "provenance": [],
      "authorship_tag": "ABX9TyNLzjieHsxh0FH+MmnIKx7X",
      "include_colab_link": true
    },
    "kernelspec": {
      "name": "python3",
      "display_name": "Python 3"
    },
    "language_info": {
      "name": "python"
    }
  },
  "cells": [
    {
      "cell_type": "markdown",
      "metadata": {
        "id": "view-in-github",
        "colab_type": "text"
      },
      "source": [
        "<a href=\"https://colab.research.google.com/github/DheviSri/python-lab/blob/main/lab_5.ipynb\" target=\"_parent\"><img src=\"https://colab.research.google.com/assets/colab-badge.svg\" alt=\"Open In Colab\"/></a>"
      ]
    },
    {
      "cell_type": "code",
      "execution_count": 1,
      "metadata": {
        "colab": {
          "base_uri": "https://localhost:8080/"
        },
        "id": "mYEe_7Lu8wnt",
        "outputId": "485b431f-e965-4a4e-c429-9392c37ffa26"
      },
      "outputs": [
        {
          "output_type": "stream",
          "name": "stdout",
          "text": [
            "\n",
            " Making a 16-inch pizza with the following toppings\n",
            "-('pepperoni',)\n",
            "\n",
            " Making a 22-inch pizza with the following toppings\n",
            "-('pepperoni', 'mushrooms', 'green pepper', 'extra cheese')\n",
            "-('pepperoni', 'mushrooms', 'green pepper', 'extra cheese')\n",
            "-('pepperoni', 'mushrooms', 'green pepper', 'extra cheese')\n",
            "-('pepperoni', 'mushrooms', 'green pepper', 'extra cheese')\n"
          ]
        }
      ],
      "source": [
        "def make_pizza(size, *toppings):\n",
        "    print(f\"\\n Making a {size}-inch pizza with the following toppings\")\n",
        "    for topping in toppings:\n",
        "        print(f\"-{toppings}\")\n",
        "\n",
        "make_pizza(16,\"pepperoni\")\n",
        "make_pizza(22,\"pepperoni\",\"mushrooms\", \"green pepper\",\"extra cheese\")"
      ]
    }
  ]
}